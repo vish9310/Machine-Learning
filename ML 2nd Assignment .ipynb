{
 "cells": [
  {
   "cell_type": "markdown",
   "metadata": {},
   "source": [
    "import pandas as pd\n",
    "import numpy as np\n",
    "import seaborn as sns\n",
    "import matplotlib.pyplot as plt\n",
    "import math\n",
    "%matplotlib inline\n",
    "from time import time\n",
    "from sklearn.naive_bayes import GaussianNB, BernoulliNB,MultinomialNB\n",
    "from sklearn.metrics import accuracy_score\n",
    "from sklearn.model_selection import train_test_split\n",
    "from sklearn.preprocessing import LabelEncoder\n",
    "from sklearn import metrics \n",
    "\n",
    "from sklearn.neighbors import KNeighborsClassifier\n",
    "from sklearn.linear_model import LogisticRegression"
   ]
  },
  {
   "cell_type": "code",
   "execution_count": 3,
   "metadata": {},
   "outputs": [
    {
     "data": {
      "text/html": [
       "<div>\n",
       "<style scoped>\n",
       "    .dataframe tbody tr th:only-of-type {\n",
       "        vertical-align: middle;\n",
       "    }\n",
       "\n",
       "    .dataframe tbody tr th {\n",
       "        vertical-align: top;\n",
       "    }\n",
       "\n",
       "    .dataframe thead th {\n",
       "        text-align: right;\n",
       "    }\n",
       "</style>\n",
       "<table border=\"1\" class=\"dataframe\">\n",
       "  <thead>\n",
       "    <tr style=\"text-align: right;\">\n",
       "      <th></th>\n",
       "      <th>Age</th>\n",
       "      <th>Attrition</th>\n",
       "      <th>BusinessTravel</th>\n",
       "      <th>DailyRate</th>\n",
       "      <th>Department</th>\n",
       "      <th>DistanceFromHome</th>\n",
       "      <th>Education</th>\n",
       "      <th>EducationField</th>\n",
       "      <th>EmployeeCount</th>\n",
       "      <th>EmployeeNumber</th>\n",
       "      <th>...</th>\n",
       "      <th>RelationshipSatisfaction</th>\n",
       "      <th>StandardHours</th>\n",
       "      <th>StockOptionLevel</th>\n",
       "      <th>TotalWorkingYears</th>\n",
       "      <th>TrainingTimesLastYear</th>\n",
       "      <th>WorkLifeBalance</th>\n",
       "      <th>YearsAtCompany</th>\n",
       "      <th>YearsInCurrentRole</th>\n",
       "      <th>YearsSinceLastPromotion</th>\n",
       "      <th>YearsWithCurrManager</th>\n",
       "    </tr>\n",
       "  </thead>\n",
       "  <tbody>\n",
       "    <tr>\n",
       "      <th>0</th>\n",
       "      <td>41</td>\n",
       "      <td>1</td>\n",
       "      <td>Travel_Rarely</td>\n",
       "      <td>1102</td>\n",
       "      <td>Sales</td>\n",
       "      <td>1</td>\n",
       "      <td>2</td>\n",
       "      <td>Life Sciences</td>\n",
       "      <td>1</td>\n",
       "      <td>1</td>\n",
       "      <td>...</td>\n",
       "      <td>1</td>\n",
       "      <td>80</td>\n",
       "      <td>0</td>\n",
       "      <td>8</td>\n",
       "      <td>0</td>\n",
       "      <td>1</td>\n",
       "      <td>6</td>\n",
       "      <td>4</td>\n",
       "      <td>0</td>\n",
       "      <td>5</td>\n",
       "    </tr>\n",
       "    <tr>\n",
       "      <th>1</th>\n",
       "      <td>49</td>\n",
       "      <td>0</td>\n",
       "      <td>Travel_Frequently</td>\n",
       "      <td>279</td>\n",
       "      <td>Research &amp; Development</td>\n",
       "      <td>8</td>\n",
       "      <td>1</td>\n",
       "      <td>Life Sciences</td>\n",
       "      <td>1</td>\n",
       "      <td>2</td>\n",
       "      <td>...</td>\n",
       "      <td>4</td>\n",
       "      <td>80</td>\n",
       "      <td>1</td>\n",
       "      <td>10</td>\n",
       "      <td>3</td>\n",
       "      <td>3</td>\n",
       "      <td>10</td>\n",
       "      <td>7</td>\n",
       "      <td>1</td>\n",
       "      <td>7</td>\n",
       "    </tr>\n",
       "    <tr>\n",
       "      <th>2</th>\n",
       "      <td>37</td>\n",
       "      <td>1</td>\n",
       "      <td>Travel_Rarely</td>\n",
       "      <td>1373</td>\n",
       "      <td>Research &amp; Development</td>\n",
       "      <td>2</td>\n",
       "      <td>2</td>\n",
       "      <td>Other</td>\n",
       "      <td>1</td>\n",
       "      <td>4</td>\n",
       "      <td>...</td>\n",
       "      <td>2</td>\n",
       "      <td>80</td>\n",
       "      <td>0</td>\n",
       "      <td>7</td>\n",
       "      <td>3</td>\n",
       "      <td>3</td>\n",
       "      <td>0</td>\n",
       "      <td>0</td>\n",
       "      <td>0</td>\n",
       "      <td>0</td>\n",
       "    </tr>\n",
       "    <tr>\n",
       "      <th>3</th>\n",
       "      <td>33</td>\n",
       "      <td>0</td>\n",
       "      <td>Travel_Frequently</td>\n",
       "      <td>1392</td>\n",
       "      <td>Research &amp; Development</td>\n",
       "      <td>3</td>\n",
       "      <td>4</td>\n",
       "      <td>Life Sciences</td>\n",
       "      <td>1</td>\n",
       "      <td>5</td>\n",
       "      <td>...</td>\n",
       "      <td>3</td>\n",
       "      <td>80</td>\n",
       "      <td>0</td>\n",
       "      <td>8</td>\n",
       "      <td>3</td>\n",
       "      <td>3</td>\n",
       "      <td>8</td>\n",
       "      <td>7</td>\n",
       "      <td>3</td>\n",
       "      <td>0</td>\n",
       "    </tr>\n",
       "    <tr>\n",
       "      <th>4</th>\n",
       "      <td>27</td>\n",
       "      <td>0</td>\n",
       "      <td>Travel_Rarely</td>\n",
       "      <td>591</td>\n",
       "      <td>Research &amp; Development</td>\n",
       "      <td>2</td>\n",
       "      <td>1</td>\n",
       "      <td>Medical</td>\n",
       "      <td>1</td>\n",
       "      <td>7</td>\n",
       "      <td>...</td>\n",
       "      <td>4</td>\n",
       "      <td>80</td>\n",
       "      <td>1</td>\n",
       "      <td>6</td>\n",
       "      <td>3</td>\n",
       "      <td>3</td>\n",
       "      <td>2</td>\n",
       "      <td>2</td>\n",
       "      <td>2</td>\n",
       "      <td>2</td>\n",
       "    </tr>\n",
       "  </tbody>\n",
       "</table>\n",
       "<p>5 rows × 35 columns</p>\n",
       "</div>"
      ],
      "text/plain": [
       "   Age  Attrition     BusinessTravel  DailyRate              Department  \\\n",
       "0   41          1      Travel_Rarely       1102                   Sales   \n",
       "1   49          0  Travel_Frequently        279  Research & Development   \n",
       "2   37          1      Travel_Rarely       1373  Research & Development   \n",
       "3   33          0  Travel_Frequently       1392  Research & Development   \n",
       "4   27          0      Travel_Rarely        591  Research & Development   \n",
       "\n",
       "   DistanceFromHome  Education EducationField  EmployeeCount  EmployeeNumber  \\\n",
       "0                 1          2  Life Sciences              1               1   \n",
       "1                 8          1  Life Sciences              1               2   \n",
       "2                 2          2          Other              1               4   \n",
       "3                 3          4  Life Sciences              1               5   \n",
       "4                 2          1        Medical              1               7   \n",
       "\n",
       "           ...           RelationshipSatisfaction StandardHours  \\\n",
       "0          ...                                  1            80   \n",
       "1          ...                                  4            80   \n",
       "2          ...                                  2            80   \n",
       "3          ...                                  3            80   \n",
       "4          ...                                  4            80   \n",
       "\n",
       "   StockOptionLevel  TotalWorkingYears  TrainingTimesLastYear WorkLifeBalance  \\\n",
       "0                 0                  8                      0               1   \n",
       "1                 1                 10                      3               3   \n",
       "2                 0                  7                      3               3   \n",
       "3                 0                  8                      3               3   \n",
       "4                 1                  6                      3               3   \n",
       "\n",
       "   YearsAtCompany YearsInCurrentRole  YearsSinceLastPromotion  \\\n",
       "0               6                  4                        0   \n",
       "1              10                  7                        1   \n",
       "2               0                  0                        0   \n",
       "3               8                  7                        3   \n",
       "4               2                  2                        2   \n",
       "\n",
       "   YearsWithCurrManager  \n",
       "0                     5  \n",
       "1                     7  \n",
       "2                     0  \n",
       "3                     0  \n",
       "4                     2  \n",
       "\n",
       "[5 rows x 35 columns]"
      ]
     },
     "execution_count": 3,
     "metadata": {},
     "output_type": "execute_result"
    }
   ],
   "source": [
    "hr = pd.read_csv(\"C:/Users/Lenovo/Desktop/DATA SETS/HR Analytics.csv\")\n",
    "hr.head()"
   ]
  },
  {
   "cell_type": "code",
   "execution_count": 4,
   "metadata": {},
   "outputs": [
    {
     "data": {
      "text/plain": [
       "Age               0\n",
       "Attrition         0\n",
       "BusinessTravel    0\n",
       "DailyRate         0\n",
       "Department        0\n",
       "dtype: int64"
      ]
     },
     "execution_count": 4,
     "metadata": {},
     "output_type": "execute_result"
    }
   ],
   "source": [
    "hr.isnull().sum().head()"
   ]
  },
  {
   "cell_type": "code",
   "execution_count": 6,
   "metadata": {},
   "outputs": [],
   "source": [
    "hr['BusinessTravel'] = hr['BusinessTravel'].map( {'Travel_Rarely':2, 'Travel_Frequently':3,'Non-Travel':1})"
   ]
  },
  {
   "cell_type": "code",
   "execution_count": 7,
   "metadata": {},
   "outputs": [
    {
     "data": {
      "text/html": [
       "<div>\n",
       "<style scoped>\n",
       "    .dataframe tbody tr th:only-of-type {\n",
       "        vertical-align: middle;\n",
       "    }\n",
       "\n",
       "    .dataframe tbody tr th {\n",
       "        vertical-align: top;\n",
       "    }\n",
       "\n",
       "    .dataframe thead th {\n",
       "        text-align: right;\n",
       "    }\n",
       "</style>\n",
       "<table border=\"1\" class=\"dataframe\">\n",
       "  <thead>\n",
       "    <tr style=\"text-align: right;\">\n",
       "      <th></th>\n",
       "      <th>Age</th>\n",
       "      <th>Attrition</th>\n",
       "      <th>BusinessTravel</th>\n",
       "      <th>DailyRate</th>\n",
       "      <th>Department</th>\n",
       "      <th>DistanceFromHome</th>\n",
       "      <th>Education</th>\n",
       "      <th>EducationField</th>\n",
       "      <th>EmployeeCount</th>\n",
       "      <th>EmployeeNumber</th>\n",
       "      <th>...</th>\n",
       "      <th>RelationshipSatisfaction</th>\n",
       "      <th>StandardHours</th>\n",
       "      <th>StockOptionLevel</th>\n",
       "      <th>TotalWorkingYears</th>\n",
       "      <th>TrainingTimesLastYear</th>\n",
       "      <th>WorkLifeBalance</th>\n",
       "      <th>YearsAtCompany</th>\n",
       "      <th>YearsInCurrentRole</th>\n",
       "      <th>YearsSinceLastPromotion</th>\n",
       "      <th>YearsWithCurrManager</th>\n",
       "    </tr>\n",
       "  </thead>\n",
       "  <tbody>\n",
       "    <tr>\n",
       "      <th>0</th>\n",
       "      <td>41</td>\n",
       "      <td>1</td>\n",
       "      <td>2</td>\n",
       "      <td>1102</td>\n",
       "      <td>Sales</td>\n",
       "      <td>1</td>\n",
       "      <td>2</td>\n",
       "      <td>Life Sciences</td>\n",
       "      <td>1</td>\n",
       "      <td>1</td>\n",
       "      <td>...</td>\n",
       "      <td>1</td>\n",
       "      <td>80</td>\n",
       "      <td>0</td>\n",
       "      <td>8</td>\n",
       "      <td>0</td>\n",
       "      <td>1</td>\n",
       "      <td>6</td>\n",
       "      <td>4</td>\n",
       "      <td>0</td>\n",
       "      <td>5</td>\n",
       "    </tr>\n",
       "    <tr>\n",
       "      <th>1</th>\n",
       "      <td>49</td>\n",
       "      <td>0</td>\n",
       "      <td>3</td>\n",
       "      <td>279</td>\n",
       "      <td>Research &amp; Development</td>\n",
       "      <td>8</td>\n",
       "      <td>1</td>\n",
       "      <td>Life Sciences</td>\n",
       "      <td>1</td>\n",
       "      <td>2</td>\n",
       "      <td>...</td>\n",
       "      <td>4</td>\n",
       "      <td>80</td>\n",
       "      <td>1</td>\n",
       "      <td>10</td>\n",
       "      <td>3</td>\n",
       "      <td>3</td>\n",
       "      <td>10</td>\n",
       "      <td>7</td>\n",
       "      <td>1</td>\n",
       "      <td>7</td>\n",
       "    </tr>\n",
       "    <tr>\n",
       "      <th>2</th>\n",
       "      <td>37</td>\n",
       "      <td>1</td>\n",
       "      <td>2</td>\n",
       "      <td>1373</td>\n",
       "      <td>Research &amp; Development</td>\n",
       "      <td>2</td>\n",
       "      <td>2</td>\n",
       "      <td>Other</td>\n",
       "      <td>1</td>\n",
       "      <td>4</td>\n",
       "      <td>...</td>\n",
       "      <td>2</td>\n",
       "      <td>80</td>\n",
       "      <td>0</td>\n",
       "      <td>7</td>\n",
       "      <td>3</td>\n",
       "      <td>3</td>\n",
       "      <td>0</td>\n",
       "      <td>0</td>\n",
       "      <td>0</td>\n",
       "      <td>0</td>\n",
       "    </tr>\n",
       "    <tr>\n",
       "      <th>3</th>\n",
       "      <td>33</td>\n",
       "      <td>0</td>\n",
       "      <td>3</td>\n",
       "      <td>1392</td>\n",
       "      <td>Research &amp; Development</td>\n",
       "      <td>3</td>\n",
       "      <td>4</td>\n",
       "      <td>Life Sciences</td>\n",
       "      <td>1</td>\n",
       "      <td>5</td>\n",
       "      <td>...</td>\n",
       "      <td>3</td>\n",
       "      <td>80</td>\n",
       "      <td>0</td>\n",
       "      <td>8</td>\n",
       "      <td>3</td>\n",
       "      <td>3</td>\n",
       "      <td>8</td>\n",
       "      <td>7</td>\n",
       "      <td>3</td>\n",
       "      <td>0</td>\n",
       "    </tr>\n",
       "    <tr>\n",
       "      <th>4</th>\n",
       "      <td>27</td>\n",
       "      <td>0</td>\n",
       "      <td>2</td>\n",
       "      <td>591</td>\n",
       "      <td>Research &amp; Development</td>\n",
       "      <td>2</td>\n",
       "      <td>1</td>\n",
       "      <td>Medical</td>\n",
       "      <td>1</td>\n",
       "      <td>7</td>\n",
       "      <td>...</td>\n",
       "      <td>4</td>\n",
       "      <td>80</td>\n",
       "      <td>1</td>\n",
       "      <td>6</td>\n",
       "      <td>3</td>\n",
       "      <td>3</td>\n",
       "      <td>2</td>\n",
       "      <td>2</td>\n",
       "      <td>2</td>\n",
       "      <td>2</td>\n",
       "    </tr>\n",
       "  </tbody>\n",
       "</table>\n",
       "<p>5 rows × 35 columns</p>\n",
       "</div>"
      ],
      "text/plain": [
       "   Age  Attrition  BusinessTravel  DailyRate              Department  \\\n",
       "0   41          1               2       1102                   Sales   \n",
       "1   49          0               3        279  Research & Development   \n",
       "2   37          1               2       1373  Research & Development   \n",
       "3   33          0               3       1392  Research & Development   \n",
       "4   27          0               2        591  Research & Development   \n",
       "\n",
       "   DistanceFromHome  Education EducationField  EmployeeCount  EmployeeNumber  \\\n",
       "0                 1          2  Life Sciences              1               1   \n",
       "1                 8          1  Life Sciences              1               2   \n",
       "2                 2          2          Other              1               4   \n",
       "3                 3          4  Life Sciences              1               5   \n",
       "4                 2          1        Medical              1               7   \n",
       "\n",
       "           ...           RelationshipSatisfaction StandardHours  \\\n",
       "0          ...                                  1            80   \n",
       "1          ...                                  4            80   \n",
       "2          ...                                  2            80   \n",
       "3          ...                                  3            80   \n",
       "4          ...                                  4            80   \n",
       "\n",
       "   StockOptionLevel  TotalWorkingYears  TrainingTimesLastYear WorkLifeBalance  \\\n",
       "0                 0                  8                      0               1   \n",
       "1                 1                 10                      3               3   \n",
       "2                 0                  7                      3               3   \n",
       "3                 0                  8                      3               3   \n",
       "4                 1                  6                      3               3   \n",
       "\n",
       "   YearsAtCompany YearsInCurrentRole  YearsSinceLastPromotion  \\\n",
       "0               6                  4                        0   \n",
       "1              10                  7                        1   \n",
       "2               0                  0                        0   \n",
       "3               8                  7                        3   \n",
       "4               2                  2                        2   \n",
       "\n",
       "   YearsWithCurrManager  \n",
       "0                     5  \n",
       "1                     7  \n",
       "2                     0  \n",
       "3                     0  \n",
       "4                     2  \n",
       "\n",
       "[5 rows x 35 columns]"
      ]
     },
     "execution_count": 7,
     "metadata": {},
     "output_type": "execute_result"
    }
   ],
   "source": [
    "hr.head()"
   ]
  },
  {
   "cell_type": "code",
   "execution_count": 12,
   "metadata": {},
   "outputs": [
    {
     "data": {
      "text/html": [
       "<div>\n",
       "<style scoped>\n",
       "    .dataframe tbody tr th:only-of-type {\n",
       "        vertical-align: middle;\n",
       "    }\n",
       "\n",
       "    .dataframe tbody tr th {\n",
       "        vertical-align: top;\n",
       "    }\n",
       "\n",
       "    .dataframe thead th {\n",
       "        text-align: right;\n",
       "    }\n",
       "</style>\n",
       "<table border=\"1\" class=\"dataframe\">\n",
       "  <thead>\n",
       "    <tr style=\"text-align: right;\">\n",
       "      <th></th>\n",
       "      <th>Age</th>\n",
       "      <th>Attrition</th>\n",
       "      <th>BusinessTravel</th>\n",
       "      <th>DailyRate</th>\n",
       "      <th>Department</th>\n",
       "      <th>DistanceFromHome</th>\n",
       "      <th>Education</th>\n",
       "      <th>EducationField</th>\n",
       "      <th>EmployeeCount</th>\n",
       "      <th>EmployeeNumber</th>\n",
       "      <th>...</th>\n",
       "      <th>RelationshipSatisfaction</th>\n",
       "      <th>StandardHours</th>\n",
       "      <th>StockOptionLevel</th>\n",
       "      <th>TotalWorkingYears</th>\n",
       "      <th>TrainingTimesLastYear</th>\n",
       "      <th>WorkLifeBalance</th>\n",
       "      <th>YearsAtCompany</th>\n",
       "      <th>YearsInCurrentRole</th>\n",
       "      <th>YearsSinceLastPromotion</th>\n",
       "      <th>YearsWithCurrManager</th>\n",
       "    </tr>\n",
       "  </thead>\n",
       "  <tbody>\n",
       "    <tr>\n",
       "      <th>0</th>\n",
       "      <td>41</td>\n",
       "      <td>1</td>\n",
       "      <td>2</td>\n",
       "      <td>1102</td>\n",
       "      <td>2</td>\n",
       "      <td>1</td>\n",
       "      <td>2</td>\n",
       "      <td>1</td>\n",
       "      <td>1</td>\n",
       "      <td>1</td>\n",
       "      <td>...</td>\n",
       "      <td>1</td>\n",
       "      <td>80</td>\n",
       "      <td>0</td>\n",
       "      <td>8</td>\n",
       "      <td>0</td>\n",
       "      <td>1</td>\n",
       "      <td>6</td>\n",
       "      <td>4</td>\n",
       "      <td>0</td>\n",
       "      <td>5</td>\n",
       "    </tr>\n",
       "    <tr>\n",
       "      <th>1</th>\n",
       "      <td>49</td>\n",
       "      <td>0</td>\n",
       "      <td>3</td>\n",
       "      <td>279</td>\n",
       "      <td>1</td>\n",
       "      <td>8</td>\n",
       "      <td>1</td>\n",
       "      <td>1</td>\n",
       "      <td>1</td>\n",
       "      <td>2</td>\n",
       "      <td>...</td>\n",
       "      <td>4</td>\n",
       "      <td>80</td>\n",
       "      <td>1</td>\n",
       "      <td>10</td>\n",
       "      <td>3</td>\n",
       "      <td>3</td>\n",
       "      <td>10</td>\n",
       "      <td>7</td>\n",
       "      <td>1</td>\n",
       "      <td>7</td>\n",
       "    </tr>\n",
       "    <tr>\n",
       "      <th>2</th>\n",
       "      <td>37</td>\n",
       "      <td>1</td>\n",
       "      <td>2</td>\n",
       "      <td>1373</td>\n",
       "      <td>1</td>\n",
       "      <td>2</td>\n",
       "      <td>2</td>\n",
       "      <td>4</td>\n",
       "      <td>1</td>\n",
       "      <td>4</td>\n",
       "      <td>...</td>\n",
       "      <td>2</td>\n",
       "      <td>80</td>\n",
       "      <td>0</td>\n",
       "      <td>7</td>\n",
       "      <td>3</td>\n",
       "      <td>3</td>\n",
       "      <td>0</td>\n",
       "      <td>0</td>\n",
       "      <td>0</td>\n",
       "      <td>0</td>\n",
       "    </tr>\n",
       "    <tr>\n",
       "      <th>3</th>\n",
       "      <td>33</td>\n",
       "      <td>0</td>\n",
       "      <td>3</td>\n",
       "      <td>1392</td>\n",
       "      <td>1</td>\n",
       "      <td>3</td>\n",
       "      <td>4</td>\n",
       "      <td>1</td>\n",
       "      <td>1</td>\n",
       "      <td>5</td>\n",
       "      <td>...</td>\n",
       "      <td>3</td>\n",
       "      <td>80</td>\n",
       "      <td>0</td>\n",
       "      <td>8</td>\n",
       "      <td>3</td>\n",
       "      <td>3</td>\n",
       "      <td>8</td>\n",
       "      <td>7</td>\n",
       "      <td>3</td>\n",
       "      <td>0</td>\n",
       "    </tr>\n",
       "    <tr>\n",
       "      <th>4</th>\n",
       "      <td>27</td>\n",
       "      <td>0</td>\n",
       "      <td>2</td>\n",
       "      <td>591</td>\n",
       "      <td>1</td>\n",
       "      <td>2</td>\n",
       "      <td>1</td>\n",
       "      <td>3</td>\n",
       "      <td>1</td>\n",
       "      <td>7</td>\n",
       "      <td>...</td>\n",
       "      <td>4</td>\n",
       "      <td>80</td>\n",
       "      <td>1</td>\n",
       "      <td>6</td>\n",
       "      <td>3</td>\n",
       "      <td>3</td>\n",
       "      <td>2</td>\n",
       "      <td>2</td>\n",
       "      <td>2</td>\n",
       "      <td>2</td>\n",
       "    </tr>\n",
       "  </tbody>\n",
       "</table>\n",
       "<p>5 rows × 35 columns</p>\n",
       "</div>"
      ],
      "text/plain": [
       "   Age  Attrition  BusinessTravel  DailyRate  Department  DistanceFromHome  \\\n",
       "0   41          1               2       1102           2                 1   \n",
       "1   49          0               3        279           1                 8   \n",
       "2   37          1               2       1373           1                 2   \n",
       "3   33          0               3       1392           1                 3   \n",
       "4   27          0               2        591           1                 2   \n",
       "\n",
       "   Education  EducationField  EmployeeCount  EmployeeNumber  \\\n",
       "0          2               1              1               1   \n",
       "1          1               1              1               2   \n",
       "2          2               4              1               4   \n",
       "3          4               1              1               5   \n",
       "4          1               3              1               7   \n",
       "\n",
       "           ...           RelationshipSatisfaction  StandardHours  \\\n",
       "0          ...                                  1             80   \n",
       "1          ...                                  4             80   \n",
       "2          ...                                  2             80   \n",
       "3          ...                                  3             80   \n",
       "4          ...                                  4             80   \n",
       "\n",
       "   StockOptionLevel  TotalWorkingYears  TrainingTimesLastYear  \\\n",
       "0                 0                  8                      0   \n",
       "1                 1                 10                      3   \n",
       "2                 0                  7                      3   \n",
       "3                 0                  8                      3   \n",
       "4                 1                  6                      3   \n",
       "\n",
       "   WorkLifeBalance  YearsAtCompany  YearsInCurrentRole  \\\n",
       "0                1               6                   4   \n",
       "1                3              10                   7   \n",
       "2                3               0                   0   \n",
       "3                3               8                   7   \n",
       "4                3               2                   2   \n",
       "\n",
       "   YearsSinceLastPromotion  YearsWithCurrManager  \n",
       "0                        0                     5  \n",
       "1                        1                     7  \n",
       "2                        0                     0  \n",
       "3                        3                     0  \n",
       "4                        2                     2  \n",
       "\n",
       "[5 rows x 35 columns]"
      ]
     },
     "execution_count": 12,
     "metadata": {},
     "output_type": "execute_result"
    }
   ],
   "source": [
    "le = LabelEncoder()\n",
    "for column in hr.columns:\n",
    "    if hr[column].dtype == type(object):\n",
    "        hr[column] = le.fit_transform(hr[column])\n",
    "        \n",
    "hr.head()"
   ]
  },
  {
   "cell_type": "code",
   "execution_count": 42,
   "metadata": {},
   "outputs": [],
   "source": [
    "# Droping below column\n",
    "\n",
    "hr_final = hr.drop(['EmployeeCount','Over18','StandardHours'],axis=1)"
   ]
  },
  {
   "cell_type": "code",
   "execution_count": 14,
   "metadata": {},
   "outputs": [
    {
     "data": {
      "text/plain": [
       "Index(['Age', 'Attrition', 'BusinessTravel', 'DailyRate', 'Department',\n",
       "       'DistanceFromHome', 'Education', 'EducationField', 'EmployeeNumber',\n",
       "       'EnvironmentSatisfaction', 'Gender', 'HourlyRate', 'JobInvolvement',\n",
       "       'JobLevel', 'JobRole', 'JobSatisfaction', 'MaritalStatus',\n",
       "       'MonthlyIncome', 'MonthlyRate', 'NumCompaniesWorked', 'OverTime',\n",
       "       'PercentSalaryHike', 'PerformanceRating', 'RelationshipSatisfaction',\n",
       "       'StockOptionLevel', 'TotalWorkingYears', 'TrainingTimesLastYear',\n",
       "       'WorkLifeBalance', 'YearsAtCompany', 'YearsInCurrentRole',\n",
       "       'YearsSinceLastPromotion', 'YearsWithCurrManager'],\n",
       "      dtype='object')"
      ]
     },
     "execution_count": 14,
     "metadata": {},
     "output_type": "execute_result"
    }
   ],
   "source": [
    "hr_final.columns"
   ]
  },
  {
   "cell_type": "code",
   "execution_count": 15,
   "metadata": {},
   "outputs": [
    {
     "data": {
      "text/plain": [
       "<matplotlib.axes._subplots.AxesSubplot at 0x1f96c7ecc18>"
      ]
     },
     "execution_count": 15,
     "metadata": {},
     "output_type": "execute_result"
    },
    {
     "data": {
      "image/png": "[encoded data removed]",
      "text/plain": [
       "<Figure size 720x576 with 2 Axes>"
      ]
     },
     "metadata": {
      "needs_background": "light"
     },
     "output_type": "display_data"
    }
   ],
   "source": [
    "f, ax = plt.subplots(figsize=(10, 8))\n",
    "corr = hr_final.corr()\n",
    "sns.heatmap(corr, mask=np.zeros_like(corr, dtype=np.bool), cmap=sns.diverging_palette(220, 10, as_cmap=True),\n",
    "            square=True, ax=ax)"
   ]
  },
  {
   "cell_type": "code",
   "execution_count": 26,
   "metadata": {},
   "outputs": [],
   "source": [
    "x = hr_final[['Age', 'BusinessTravel', 'DailyRate',\n",
    "       'DistanceFromHome',\n",
    "       'EnvironmentSatisfaction', 'Gender',\n",
    "       'JobSatisfaction',\n",
    "       'MaritalStatus', 'MonthlyIncome', 'NumCompaniesWorked',\n",
    "       'OverTime', 'PercentSalaryHike',\n",
    "       'RelationshipSatisfaction',\n",
    "       'TotalWorkingYears', 'WorkLifeBalance',\n",
    "       'YearsAtCompany','YearsInCurrentRole','YearsSinceLastPromotion',\n",
    "       'YearsWithCurrManager']]\n",
    "y = hr_final['Attrition']"
   ]
  },
  {
   "cell_type": "code",
   "execution_count": 27,
   "metadata": {},
   "outputs": [],
   "source": [
    "x_train, x_test , y_train, y_test = train_test_split(x,y, test_size = 0.2,random_state=1)"
   ]
  },
  {
   "cell_type": "code",
   "execution_count": 13,
   "metadata": {
    "scrolled": true
   },
   "outputs": [
    {
     "name": "stdout",
     "output_type": "stream",
     "text": [
      "kNN Score= 81.29251700680273\n",
      "Confusion matrix is:\n",
      "[[226  10]\n",
      " [ 45  13]]\n"
     ]
    }
   ],
   "source": [
    "knn = KNeighborsClassifier(n_neighbors=3)\n",
    "\n",
    "knn.fit(x_train,y_train)\n",
    "print(\"kNN Score=\",knn.score(x_test,y_test)*100)        \n",
    "\n",
    "\n",
    "prediction = knn.predict(x_test)\n",
    "cm = confusion_matrix(y_test,prediction)\n",
    "print(\"Confusion matrix is:\", cm ,sep='\\n')"
   ]
  },
  {
   "cell_type": "markdown",
   "metadata": {},
   "source": [
    "### -------------------------------------------Gaussian----------------------------------------------------------------------"
   ]
  },
  {
   "cell_type": "code",
   "execution_count": 14,
   "metadata": {},
   "outputs": [
    {
     "data": {
      "text/plain": [
       "GaussianNB(priors=None, var_smoothing=1e-09)"
      ]
     },
     "execution_count": 14,
     "metadata": {},
     "output_type": "execute_result"
    }
   ],
   "source": [
    "gnb = GaussianNB()\n",
    "gnb.fit(x_train,y_train)"
   ]
  },
  {
   "cell_type": "code",
   "execution_count": 15,
   "metadata": {},
   "outputs": [
    {
     "name": "stdout",
     "output_type": "stream",
     "text": [
      "accuracy(in %): 84.6938775510204\n"
     ]
    }
   ],
   "source": [
    "y_pred = gnb.predict(x_test)\n",
    "\n",
    "print(\"accuracy(in %):\", metrics.accuracy_score(y_test, y_pred)*100)"
   ]
  },
  {
   "cell_type": "code",
   "execution_count": 16,
   "metadata": {},
   "outputs": [
    {
     "name": "stdout",
     "output_type": "stream",
     "text": [
      "confusion Matrix is:\n",
      "[[220  16]\n",
      " [ 29  29]]\n"
     ]
    }
   ],
   "source": [
    "cm = confusion_matrix(y_test,y_pred)\n",
    "print(\"confusion Matrix is:\", cm, sep = '\\n')"
   ]
  },
  {
   "cell_type": "code",
   "execution_count": 21,
   "metadata": {},
   "outputs": [
    {
     "data": {
      "text/plain": [
       "array([[7.19301349e-01, 2.80698651e-01],\n",
       "       [6.37586086e-02, 9.36241391e-01],\n",
       "       [2.12470350e-01, 7.87529650e-01],\n",
       "       [5.40758243e-01, 4.59241757e-01],\n",
       "       [9.99054282e-01, 9.45717556e-04],\n",
       "       [8.83153469e-01, 1.16846531e-01],\n",
       "       [9.96676384e-01, 3.32361570e-03],\n",
       "       [7.87262787e-01, 2.12737213e-01],\n",
       "       [9.63604294e-01, 3.63957056e-02],\n",
       "       [9.36154166e-01, 6.38458341e-02],\n",
       "       [9.99960357e-01, 3.96432298e-05],\n",
       "       [9.62032843e-01, 3.79671568e-02],\n",
       "       [2.60163438e-01, 7.39836562e-01],\n",
       "       [9.38636431e-01, 6.13635688e-02],\n",
       "       [5.23439676e-01, 4.76560324e-01],\n",
       "       [9.96985304e-01, 3.01469589e-03],\n",
       "       [9.30392249e-01, 6.96077510e-02],\n",
       "       [4.05131100e-01, 5.94868900e-01],\n",
       "       [5.44632832e-01, 4.55367168e-01],\n",
       "       [9.60816384e-01, 3.91836156e-02],\n",
       "       [8.60330114e-01, 1.39669886e-01],\n",
       "       [5.55642103e-01, 4.44357897e-01],\n",
       "       [9.74212357e-01, 2.57876431e-02],\n",
       "       [8.53581123e-01, 1.46418877e-01],\n",
       "       [5.41183901e-01, 4.58816099e-01],\n",
       "       [9.92938576e-01, 7.06142391e-03],\n",
       "       [4.45229023e-01, 5.54770977e-01],\n",
       "       [8.82351264e-01, 1.17648736e-01],\n",
       "       [5.48040644e-01, 4.51959356e-01],\n",
       "       [8.54795087e-01, 1.45204913e-01],\n",
       "       [9.44400352e-01, 5.55996475e-02],\n",
       "       [9.78441277e-01, 2.15587225e-02],\n",
       "       [9.36118305e-01, 6.38816952e-02],\n",
       "       [9.58902121e-01, 4.10978792e-02],\n",
       "       [5.74105032e-01, 4.25894968e-01],\n",
       "       [8.34148561e-01, 1.65851439e-01],\n",
       "       [9.12413323e-01, 8.75866768e-02],\n",
       "       [8.76863558e-01, 1.23136442e-01],\n",
       "       [7.31195506e-01, 2.68804494e-01],\n",
       "       [3.39298328e-01, 6.60701672e-01],\n",
       "       [7.39599292e-01, 2.60400708e-01],\n",
       "       [7.31984661e-01, 2.68015339e-01],\n",
       "       [9.99909371e-01, 9.06290651e-05],\n",
       "       [7.07282519e-01, 2.92717481e-01],\n",
       "       [9.97300885e-01, 2.69911542e-03],\n",
       "       [9.89499487e-01, 1.05005131e-02],\n",
       "       [7.60993218e-01, 2.39006782e-01],\n",
       "       [3.04225903e-01, 6.95774097e-01],\n",
       "       [9.30459938e-01, 6.95400615e-02],\n",
       "       [9.60999943e-01, 3.90000573e-02],\n",
       "       [9.97009025e-01, 2.99097499e-03],\n",
       "       [7.50532979e-01, 2.49467021e-01],\n",
       "       [9.46947183e-01, 5.30528167e-02],\n",
       "       [1.75179498e-01, 8.24820502e-01],\n",
       "       [5.58322499e-01, 4.41677501e-01],\n",
       "       [9.74663859e-01, 2.53361409e-02],\n",
       "       [3.61307629e-01, 6.38692371e-01],\n",
       "       [3.10412654e-01, 6.89587346e-01],\n",
       "       [9.89665147e-01, 1.03348530e-02],\n",
       "       [9.98150859e-01, 1.84914072e-03],\n",
       "       [9.99996901e-01, 3.09881820e-06],\n",
       "       [9.85562657e-01, 1.44373432e-02],\n",
       "       [9.99879325e-01, 1.20675310e-04],\n",
       "       [2.64095920e-01, 7.35904080e-01],\n",
       "       [8.78205737e-01, 1.21794263e-01],\n",
       "       [4.94693359e-01, 5.05306641e-01],\n",
       "       [9.71951661e-01, 2.80483391e-02],\n",
       "       [5.01766661e-01, 4.98233339e-01],\n",
       "       [9.92964422e-01, 7.03557772e-03],\n",
       "       [6.71334047e-01, 3.28665953e-01],\n",
       "       [9.79876384e-01, 2.01236164e-02],\n",
       "       [4.55578457e-01, 5.44421543e-01],\n",
       "       [9.59700711e-01, 4.02992892e-02],\n",
       "       [6.37716287e-01, 3.62283713e-01],\n",
       "       [8.36836620e-01, 1.63163380e-01],\n",
       "       [9.91242653e-01, 8.75734665e-03],\n",
       "       [6.00971226e-01, 3.99028774e-01],\n",
       "       [6.60629428e-01, 3.39370572e-01],\n",
       "       [7.19836758e-01, 2.80163242e-01],\n",
       "       [6.81982205e-01, 3.18017795e-01],\n",
       "       [8.43508831e-01, 1.56491169e-01],\n",
       "       [5.64233648e-01, 4.35766352e-01],\n",
       "       [9.61015221e-01, 3.89847785e-02],\n",
       "       [2.39505003e-01, 7.60494997e-01],\n",
       "       [1.43470396e-01, 8.56529604e-01],\n",
       "       [1.09687854e-01, 8.90312146e-01],\n",
       "       [8.15826006e-01, 1.84173994e-01],\n",
       "       [9.99050807e-01, 9.49193188e-04],\n",
       "       [6.55259107e-01, 3.44740893e-01],\n",
       "       [9.90705743e-01, 9.29425738e-03],\n",
       "       [8.15581058e-01, 1.84418942e-01],\n",
       "       [9.80850477e-01, 1.91495232e-02],\n",
       "       [7.93925710e-01, 2.06074290e-01],\n",
       "       [5.77270509e-01, 4.22729491e-01],\n",
       "       [9.93420599e-01, 6.57940126e-03],\n",
       "       [9.89846198e-01, 1.01538016e-02],\n",
       "       [9.38136242e-01, 6.18637582e-02],\n",
       "       [8.98865342e-01, 1.01134658e-01],\n",
       "       [9.89420425e-01, 1.05795754e-02],\n",
       "       [8.10338540e-01, 1.89661460e-01],\n",
       "       [6.24082009e-01, 3.75917991e-01],\n",
       "       [9.98442998e-01, 1.55700166e-03],\n",
       "       [9.92320243e-01, 7.67975674e-03],\n",
       "       [9.99084698e-01, 9.15301643e-04],\n",
       "       [7.86507540e-01, 2.13492460e-01],\n",
       "       [9.31560068e-01, 6.84399324e-02],\n",
       "       [9.98056175e-01, 1.94382491e-03],\n",
       "       [7.32771106e-01, 2.67228894e-01],\n",
       "       [5.06214973e-01, 4.93785027e-01],\n",
       "       [6.31396230e-01, 3.68603770e-01],\n",
       "       [8.38067887e-01, 1.61932113e-01],\n",
       "       [9.59478029e-01, 4.05219705e-02],\n",
       "       [9.25909881e-01, 7.40901191e-02],\n",
       "       [9.95975101e-01, 4.02489902e-03],\n",
       "       [9.99800916e-01, 1.99084242e-04],\n",
       "       [3.90071208e-01, 6.09928792e-01],\n",
       "       [3.91354896e-01, 6.08645104e-01],\n",
       "       [4.75340695e-01, 5.24659305e-01],\n",
       "       [7.64557777e-01, 2.35442223e-01],\n",
       "       [9.99746129e-01, 2.53871319e-04],\n",
       "       [9.98566319e-01, 1.43368073e-03],\n",
       "       [5.01012182e-01, 4.98987818e-01],\n",
       "       [6.42720544e-02, 9.35727946e-01],\n",
       "       [6.96320516e-01, 3.03679484e-01],\n",
       "       [9.99559763e-01, 4.40237207e-04],\n",
       "       [8.69111109e-01, 1.30888891e-01],\n",
       "       [8.59096591e-01, 1.40903409e-01],\n",
       "       [7.39418944e-01, 2.60581056e-01],\n",
       "       [8.03497958e-01, 1.96502042e-01],\n",
       "       [9.99912132e-01, 8.78682116e-05],\n",
       "       [8.50491355e-01, 1.49508645e-01],\n",
       "       [9.76213125e-01, 2.37868746e-02],\n",
       "       [9.73354271e-01, 2.66457290e-02],\n",
       "       [4.19581702e-01, 5.80418298e-01],\n",
       "       [9.78823845e-01, 2.11761552e-02],\n",
       "       [9.65266090e-01, 3.47339098e-02],\n",
       "       [6.97949262e-01, 3.02050738e-01],\n",
       "       [9.74725953e-01, 2.52740466e-02],\n",
       "       [9.68525336e-01, 3.14746637e-02],\n",
       "       [2.74851401e-01, 7.25148599e-01],\n",
       "       [3.65271938e-01, 6.34728062e-01],\n",
       "       [9.99658271e-01, 3.41728875e-04],\n",
       "       [7.11921452e-01, 2.88078548e-01],\n",
       "       [8.95700624e-01, 1.04299376e-01],\n",
       "       [7.66746445e-01, 2.33253555e-01],\n",
       "       [9.22612474e-01, 7.73875260e-02],\n",
       "       [9.97706880e-01, 2.29312040e-03],\n",
       "       [9.70923809e-01, 2.90761912e-02],\n",
       "       [2.85287894e-01, 7.14712106e-01],\n",
       "       [7.27360125e-01, 2.72639875e-01],\n",
       "       [7.99397732e-01, 2.00602268e-01],\n",
       "       [3.64653007e-01, 6.35346993e-01],\n",
       "       [8.33290306e-01, 1.66709694e-01],\n",
       "       [9.99863098e-01, 1.36902444e-04],\n",
       "       [7.42622777e-01, 2.57377223e-01],\n",
       "       [4.93023021e-01, 5.06976979e-01],\n",
       "       [3.61513834e-01, 6.38486166e-01],\n",
       "       [9.12865726e-01, 8.71342736e-02],\n",
       "       [9.99818147e-01, 1.81853347e-04],\n",
       "       [8.29672120e-01, 1.70327880e-01],\n",
       "       [9.93709235e-01, 6.29076543e-03],\n",
       "       [1.67089035e-01, 8.32910965e-01],\n",
       "       [8.73827424e-01, 1.26172576e-01],\n",
       "       [9.99102127e-01, 8.97872845e-04],\n",
       "       [4.06041907e-01, 5.93958093e-01],\n",
       "       [9.29574366e-01, 7.04256343e-02],\n",
       "       [9.83966364e-01, 1.60336356e-02],\n",
       "       [9.65366247e-01, 3.46337527e-02],\n",
       "       [9.27699294e-01, 7.23007058e-02],\n",
       "       [6.00045621e-01, 3.99954379e-01],\n",
       "       [8.37412860e-01, 1.62587140e-01],\n",
       "       [9.78185693e-01, 2.18143071e-02],\n",
       "       [9.68512268e-01, 3.14877321e-02],\n",
       "       [6.80869770e-01, 3.19130230e-01],\n",
       "       [5.98197819e-01, 4.01802181e-01],\n",
       "       [6.45742482e-01, 3.54257518e-01],\n",
       "       [7.97976386e-01, 2.02023614e-01],\n",
       "       [1.38196420e-01, 8.61803580e-01],\n",
       "       [7.55020948e-01, 2.44979052e-01],\n",
       "       [2.01227089e-01, 7.98772911e-01],\n",
       "       [8.48930929e-01, 1.51069071e-01],\n",
       "       [9.98267604e-01, 1.73239572e-03],\n",
       "       [8.82760429e-01, 1.17239571e-01],\n",
       "       [9.22145848e-01, 7.78541521e-02],\n",
       "       [7.12396588e-01, 2.87603412e-01],\n",
       "       [8.24300964e-01, 1.75699036e-01],\n",
       "       [6.07003415e-01, 3.92996585e-01],\n",
       "       [9.99861537e-01, 1.38462798e-04],\n",
       "       [9.65493629e-01, 3.45063711e-02],\n",
       "       [9.73142001e-01, 2.68579988e-02],\n",
       "       [9.94040141e-01, 5.95985920e-03],\n",
       "       [9.99293654e-01, 7.06345690e-04],\n",
       "       [9.96085203e-01, 3.91479674e-03],\n",
       "       [4.23796770e-01, 5.76203230e-01],\n",
       "       [9.90468176e-01, 9.53182432e-03],\n",
       "       [9.14164505e-01, 8.58354955e-02],\n",
       "       [9.76654381e-01, 2.33456188e-02],\n",
       "       [9.90121087e-01, 9.87891261e-03],\n",
       "       [9.90167429e-01, 9.83257132e-03],\n",
       "       [4.24341733e-01, 5.75658267e-01],\n",
       "       [3.57869137e-01, 6.42130863e-01],\n",
       "       [9.75534749e-01, 2.44652513e-02],\n",
       "       [8.38211603e-01, 1.61788397e-01],\n",
       "       [5.99835172e-01, 4.00164828e-01],\n",
       "       [9.47140771e-01, 5.28592291e-02],\n",
       "       [7.52091087e-01, 2.47908913e-01],\n",
       "       [8.89724252e-01, 1.10275748e-01],\n",
       "       [5.55504243e-01, 4.44495757e-01],\n",
       "       [5.02124867e-01, 4.97875133e-01],\n",
       "       [3.81494514e-01, 6.18505486e-01],\n",
       "       [9.42778045e-01, 5.72219547e-02],\n",
       "       [9.97637331e-01, 2.36266868e-03],\n",
       "       [9.90292912e-01, 9.70708802e-03],\n",
       "       [9.02775247e-01, 9.72247527e-02],\n",
       "       [7.96169826e-01, 2.03830174e-01],\n",
       "       [7.59186965e-01, 2.40813035e-01],\n",
       "       [3.27233397e-01, 6.72766603e-01],\n",
       "       [1.47728000e-01, 8.52272000e-01],\n",
       "       [8.09419216e-01, 1.90580784e-01],\n",
       "       [9.99995498e-01, 4.50231037e-06],\n",
       "       [9.92668797e-01, 7.33120258e-03],\n",
       "       [4.11647763e-01, 5.88352237e-01],\n",
       "       [9.97598978e-01, 2.40102197e-03],\n",
       "       [9.33457969e-01, 6.65420312e-02],\n",
       "       [9.90099664e-01, 9.90033633e-03],\n",
       "       [9.14874888e-01, 8.51251122e-02],\n",
       "       [8.63332063e-01, 1.36667937e-01],\n",
       "       [7.63003213e-01, 2.36996787e-01],\n",
       "       [9.82062291e-01, 1.79377093e-02],\n",
       "       [7.20588860e-01, 2.79411140e-01],\n",
       "       [9.75595210e-01, 2.44047904e-02],\n",
       "       [9.82915989e-01, 1.70840113e-02],\n",
       "       [6.94595843e-01, 3.05404157e-01],\n",
       "       [9.92290204e-01, 7.70979571e-03],\n",
       "       [7.12673921e-01, 2.87326079e-01],\n",
       "       [6.13536980e-01, 3.86463020e-01],\n",
       "       [9.98997102e-01, 1.00289778e-03],\n",
       "       [5.34676458e-01, 4.65323542e-01],\n",
       "       [9.78173222e-01, 2.18267779e-02],\n",
       "       [8.80072115e-01, 1.19927885e-01],\n",
       "       [9.46647046e-01, 5.33529544e-02],\n",
       "       [2.55317537e-01, 7.44682463e-01],\n",
       "       [8.67410013e-01, 1.32589987e-01],\n",
       "       [9.99940841e-01, 5.91586385e-05],\n",
       "       [9.83245713e-01, 1.67542870e-02],\n",
       "       [8.14774965e-01, 1.85225035e-01],\n",
       "       [8.14555344e-01, 1.85444656e-01],\n",
       "       [9.96417422e-01, 3.58257810e-03],\n",
       "       [8.71541810e-01, 1.28458190e-01],\n",
       "       [8.80414914e-01, 1.19585086e-01],\n",
       "       [8.69920914e-01, 1.30079086e-01],\n",
       "       [9.99450757e-02, 9.00054924e-01],\n",
       "       [9.34213132e-01, 6.57868679e-02],\n",
       "       [6.54592523e-01, 3.45407477e-01],\n",
       "       [9.98747613e-01, 1.25238666e-03],\n",
       "       [6.48093838e-01, 3.51906162e-01],\n",
       "       [7.46192529e-01, 2.53807471e-01],\n",
       "       [7.11215875e-01, 2.88784125e-01],\n",
       "       [9.33539959e-01, 6.64600407e-02],\n",
       "       [8.87879456e-01, 1.12120544e-01],\n",
       "       [8.34162621e-01, 1.65837379e-01],\n",
       "       [4.86338871e-01, 5.13661129e-01],\n",
       "       [9.99966941e-01, 3.30594468e-05],\n",
       "       [9.99878678e-01, 1.21321503e-04],\n",
       "       [8.23972635e-01, 1.76027365e-01],\n",
       "       [6.82833762e-01, 3.17166238e-01],\n",
       "       [9.77421613e-01, 2.25783867e-02],\n",
       "       [9.73809913e-01, 2.61900869e-02],\n",
       "       [6.00530649e-01, 3.99469351e-01],\n",
       "       [2.91052939e-01, 7.08947061e-01],\n",
       "       [8.71519045e-01, 1.28480955e-01],\n",
       "       [7.08467774e-01, 2.91532226e-01],\n",
       "       [9.53269496e-01, 4.67305041e-02],\n",
       "       [9.84418320e-01, 1.55816798e-02],\n",
       "       [2.88806710e-01, 7.11193290e-01],\n",
       "       [2.67755224e-01, 7.32244776e-01],\n",
       "       [9.74202895e-01, 2.57971054e-02],\n",
       "       [6.95772069e-01, 3.04227931e-01],\n",
       "       [9.77493574e-01, 2.25064262e-02],\n",
       "       [6.68437973e-01, 3.31562027e-01],\n",
       "       [8.86201619e-01, 1.13798381e-01],\n",
       "       [5.65138938e-01, 4.34861062e-01],\n",
       "       [9.92839356e-01, 7.16064365e-03],\n",
       "       [9.00592490e-01, 9.94075103e-02],\n",
       "       [6.26671802e-01, 3.73328198e-01],\n",
       "       [7.87329624e-01, 2.12670376e-01],\n",
       "       [9.68194700e-01, 3.18052999e-02],\n",
       "       [9.91714213e-01, 8.28578728e-03],\n",
       "       [9.99912061e-01, 8.79391597e-05],\n",
       "       [8.54282578e-01, 1.45717422e-01],\n",
       "       [5.15030722e-01, 4.84969278e-01],\n",
       "       [9.99461183e-01, 5.38817263e-04],\n",
       "       [6.59342871e-01, 3.40657129e-01],\n",
       "       [1.56498022e-01, 8.43501978e-01]])"
      ]
     },
     "execution_count": 21,
     "metadata": {},
     "output_type": "execute_result"
    }
   ],
   "source": [
    "probs = gnb.predict_proba(x_test)\n",
    "probs"
   ]
  },
  {
   "cell_type": "code",
   "execution_count": 22,
   "metadata": {},
   "outputs": [
    {
     "name": "stdout",
     "output_type": "stream",
     "text": [
      "Area under the curve: 0.8145090590298072\n",
      "Threshold: [1.93624139e+00 9.36241391e-01 9.35727946e-01 8.61803580e-01\n",
      " 8.56529604e-01 8.52272000e-01 8.43501978e-01 8.32910965e-01\n",
      " 8.24820502e-01 7.60494997e-01 7.44682463e-01 7.11193290e-01\n",
      " 6.95774097e-01 6.60701672e-01 6.42130863e-01 6.38692371e-01\n",
      " 6.35346993e-01 6.34728062e-01 6.18505486e-01 6.09928792e-01\n",
      " 6.08645104e-01 5.54770977e-01 5.44421543e-01 5.24659305e-01\n",
      " 5.05306641e-01 4.98987818e-01 4.93785027e-01 4.84969278e-01\n",
      " 4.55367168e-01 4.44495757e-01 4.35766352e-01 4.22729491e-01\n",
      " 4.01802181e-01 4.00164828e-01 3.99954379e-01 3.99028774e-01\n",
      " 3.92996585e-01 3.86463020e-01 3.40657129e-01 3.28665953e-01\n",
      " 2.92717481e-01 2.91532226e-01 2.87326079e-01 2.80698651e-01\n",
      " 2.68015339e-01 2.67228894e-01 2.40813035e-01 2.39006782e-01\n",
      " 1.66709694e-01 1.65851439e-01 1.01134658e-01 9.94075103e-02\n",
      " 8.75866768e-02 8.71342736e-02 6.18637582e-02 6.13635688e-02\n",
      " 3.89847785e-02 3.79671568e-02 2.53361409e-02 2.52740466e-02\n",
      " 9.83257132e-03 9.70708802e-03 7.67975674e-03 7.16064365e-03\n",
      " 7.06142391e-03 7.03557772e-03 6.57940126e-03 6.29076543e-03\n",
      " 3.09881820e-06]\n"
     ]
    }
   ],
   "source": [
    "prob_positive = probs[:,1]\n",
    "fpr, tpr, threshold = metrics.roc_curve(y_test, prob_positive)\n",
    "roc_auc = metrics.auc(fpr, tpr)\n",
    "\n",
    "print('Area under the curve:',roc_auc)\n",
    "print('Threshold:', threshold)"
   ]
  },
  {
   "cell_type": "code",
   "execution_count": 23,
   "metadata": {},
   "outputs": [
    {
     "data": {
      "image/png": "[encoded data removed]",
      "text/plain": [
       "<Figure size 432x288 with 1 Axes>"
      ]
     },
     "metadata": {
      "needs_background": "light"
     },
     "output_type": "display_data"
    }
   ],
   "source": [
    "# plot ROC curve\n",
    "\n",
    "plt.title('Receiver Operating Characteristic')\n",
    "plt.plot(fpr, tpr, 'orange', label = 'AUC = %0.2f' % roc_auc)\n",
    "plt.legend(loc = 'lower right')\n",
    "plt.plot([0, 1], [0, 1], color='darkblue', linestyle='--')\n",
    "plt.ylabel('True Positive Rate')\n",
    "plt.xlabel('False Positive Rate')\n",
    "plt.show()"
   ]
  },
  {
   "cell_type": "markdown",
   "metadata": {},
   "source": [
    "### ----------------------------------------------------------Bernoulli-----------------------------------------------------------"
   ]
  },
  {
   "cell_type": "code",
   "execution_count": 17,
   "metadata": {},
   "outputs": [
    {
     "data": {
      "text/plain": [
       "BernoulliNB(alpha=1.0, binarize=0.0, class_prior=None, fit_prior=True)"
      ]
     },
     "execution_count": 17,
     "metadata": {},
     "output_type": "execute_result"
    }
   ],
   "source": [
    "bnb = BernoulliNB()\n",
    "bnb.fit(x_train,y_train)"
   ]
  },
  {
   "cell_type": "code",
   "execution_count": 18,
   "metadata": {},
   "outputs": [
    {
     "name": "stdout",
     "output_type": "stream",
     "text": [
      "accuracy(in %): 81.29251700680273\n"
     ]
    }
   ],
   "source": [
    "y_pred = bnb.predict(x_test)\n",
    "\n",
    "print(\"accuracy(in %):\" , metrics.accuracy_score(y_test,y_pred)*100)"
   ]
  },
  {
   "cell_type": "code",
   "execution_count": 24,
   "metadata": {},
   "outputs": [
    {
     "name": "stdout",
     "output_type": "stream",
     "text": [
      "Area under the curve: 0.7345485096434833\n",
      "Threshold: [1.9740317  0.9740317  0.90710901 0.74435922 0.7193761  0.70230377\n",
      " 0.67500513 0.62662815 0.47876583 0.46800097 0.4453466  0.43119408\n",
      " 0.42667116 0.40449627 0.3941386  0.38049705 0.35921835 0.33619447\n",
      " 0.30407807 0.29994201 0.25512715 0.24421086 0.22038148 0.21722535\n",
      " 0.20209868 0.19298664 0.19127766 0.18635014 0.17766321 0.17289859\n",
      " 0.17027396 0.16487091 0.14483737 0.13789535 0.13775797 0.12739385\n",
      " 0.11661587 0.11460973 0.10577351 0.09319566 0.09250137 0.08288616\n",
      " 0.08187176 0.06943067 0.06738054 0.06186378 0.05325229 0.05071832\n",
      " 0.04888544 0.04358621 0.03997853 0.03993418 0.03661722 0.03260229\n",
      " 0.02987536 0.02341371]\n"
     ]
    }
   ],
   "source": [
    "probs_bnb = bnb.predict_proba(x_test)\n",
    "prob_positive = probs_bnb[:,1]\n",
    "fpr, tpr, threshold = metrics.roc_curve(y_test, prob_positive)\n",
    "roc_auc = metrics.auc(fpr, tpr)\n",
    "print('Area under the curve:',roc_auc)\n",
    "print('Threshold:', threshold)"
   ]
  },
  {
   "cell_type": "code",
   "execution_count": 25,
   "metadata": {},
   "outputs": [
    {
     "data": {
      "image/png": "[encoded data removed]",
      "text/plain": [
       "<Figure size 432x288 with 1 Axes>"
      ]
     },
     "metadata": {
      "needs_background": "light"
     },
     "output_type": "display_data"
    }
   ],
   "source": [
    "# plot ROC curve for Bernaulli\n",
    "\n",
    "plt.title('Receiver Operating Characteristic')\n",
    "plt.plot(fpr, tpr, 'orange', label = 'AUC = %0.2f' % roc_auc)\n",
    "plt.legend(loc = 'lower right')\n",
    "plt.plot([0, 1], [0, 1], color='darkblue', linestyle='--')\n",
    "plt.ylabel('True Positive Rate')\n",
    "plt.xlabel('False Positive Rate')\n",
    "plt.show()"
   ]
  },
  {
   "cell_type": "code",
   "execution_count": null,
   "metadata": {},
   "outputs": [],
   "source": []
  },
  {
   "cell_type": "markdown",
   "metadata": {},
   "source": [
    "### ---------------------------------------------------------MultinomialNB---------------------------------------------------------"
   ]
  },
  {
   "cell_type": "code",
   "execution_count": 19,
   "metadata": {},
   "outputs": [
    {
     "data": {
      "text/plain": [
       "MultinomialNB(alpha=1.0, class_prior=None, fit_prior=True)"
      ]
     },
     "execution_count": 19,
     "metadata": {},
     "output_type": "execute_result"
    }
   ],
   "source": [
    "## Now from multinom\n",
    "\n",
    "mnb = MultinomialNB()\n",
    "mnb.fit(x_train,y_train)"
   ]
  },
  {
   "cell_type": "code",
   "execution_count": 20,
   "metadata": {},
   "outputs": [
    {
     "name": "stdout",
     "output_type": "stream",
     "text": [
      "accuracy score: 54.421768707483\n"
     ]
    }
   ],
   "source": [
    "y_pred = mnb.predict(x_test)\n",
    "\n",
    "print(\"accuracy score:\", metrics.accuracy_score(y_test,y_pred)*100)"
   ]
  },
  {
   "cell_type": "code",
   "execution_count": 26,
   "metadata": {},
   "outputs": [
    {
     "name": "stdout",
     "output_type": "stream",
     "text": [
      "Area under the curve: 0.6052746931618935\n",
      "Threshold: [2.00000000e+000 1.00000000e+000 1.00000000e+000 1.00000000e+000\n",
      " 1.00000000e+000 1.00000000e+000 1.00000000e+000 1.00000000e+000\n",
      " 1.00000000e+000 9.99999998e-001 9.99999997e-001 9.99999995e-001\n",
      " 9.99999991e-001 9.99999975e-001 9.99999707e-001 9.99999502e-001\n",
      " 9.99998804e-001 9.99997873e-001 9.99995810e-001 9.99981968e-001\n",
      " 2.79044858e-001 2.28999703e-001 2.95641534e-007 1.38764140e-007\n",
      " 5.75456697e-009 8.12633074e-010 1.01324198e-011 9.03540697e-012\n",
      " 3.14332291e-014 2.51779025e-014 1.94235701e-015 8.76412413e-017\n",
      " 5.49779809e-017 4.91494236e-017 5.50743419e-018 4.53109737e-018\n",
      " 1.52455490e-025 6.64768771e-026 4.97517728e-032 2.12776780e-032\n",
      " 3.62605413e-034 9.73521171e-035 9.86340015e-045 7.70353006e-045\n",
      " 2.00101322e-051 5.72662069e-052 8.11738281e-057 5.27987439e-063\n",
      " 1.82928219e-065 5.99818239e-067 3.93645262e-073 1.00586763e-074\n",
      " 5.46192746e-087 4.84199722e-089 2.07198419e-232]\n"
     ]
    }
   ],
   "source": [
    "probs_mnb = mnb.predict_proba(x_test)\n",
    "prob_positive = probs_mnb[:,1]\n",
    "fpr, tpr, threshold = metrics.roc_curve(y_test, prob_positive)\n",
    "roc_auc = metrics.auc(fpr, tpr)\n",
    "print('Area under the curve:',roc_auc)\n",
    "print('Threshold:', threshold)"
   ]
  },
  {
   "cell_type": "code",
   "execution_count": 27,
   "metadata": {},
   "outputs": [
    {
     "data": {
      "image/png": "[encoded data removed]",
      "text/plain": [
       "<Figure size 432x288 with 1 Axes>"
      ]
     },
     "metadata": {
      "needs_background": "light"
     },
     "output_type": "display_data"
    }
   ],
   "source": [
    "# plot ROC curve for Multinomial\n",
    "\n",
    "plt.title('Receiver Operating Characteristic')\n",
    "plt.plot(fpr, tpr, 'orange', label = 'AUC = %0.2f' % roc_auc)\n",
    "plt.legend(loc = 'lower right')\n",
    "plt.plot([0, 1], [0, 1], color='darkblue', linestyle='--')\n",
    "plt.ylabel('True Positive Rate')\n",
    "plt.xlabel('False Positive Rate')\n",
    "plt.show()"
   ]
  },
  {
   "cell_type": "markdown",
   "metadata": {},
   "source": [
    "## ''So Gaussian Naive Base is giving the best accuracy score'' "
   ]
  },
  {
   "cell_type": "markdown",
   "metadata": {},
   "source": [
    "# Logistic Regression "
   ]
  },
  {
   "cell_type": "code",
   "execution_count": 29,
   "metadata": {},
   "outputs": [
    {
     "name": "stderr",
     "output_type": "stream",
     "text": [
      "C:\\ProgramData\\Anaconda3\\lib\\site-packages\\sklearn\\linear_model\\logistic.py:433: FutureWarning: Default solver will be changed to 'lbfgs' in 0.22. Specify a solver to silence this warning.\n",
      "  FutureWarning)\n"
     ]
    },
    {
     "data": {
      "text/plain": [
       "LogisticRegression(C=1.0, class_weight=None, dual=False, fit_intercept=True,\n",
       "          intercept_scaling=1, max_iter=100, multi_class='warn',\n",
       "          n_jobs=None, penalty='l2', random_state=None, solver='warn',\n",
       "          tol=0.0001, verbose=0, warm_start=False)"
      ]
     },
     "execution_count": 29,
     "metadata": {},
     "output_type": "execute_result"
    }
   ],
   "source": [
    "model = LogisticRegression()\n",
    "model.fit(x_train, y_train)"
   ]
  },
  {
   "cell_type": "code",
   "execution_count": 30,
   "metadata": {},
   "outputs": [
    {
     "name": "stdout",
     "output_type": "stream",
     "text": [
      "Log reg score on hr_fianl data set 0.8197278911564626\n"
     ]
    }
   ],
   "source": [
    "print(\"Log reg score on hr_fianl data set\", model.score(x_test, y_test))"
   ]
  },
  {
   "cell_type": "code",
   "execution_count": 31,
   "metadata": {},
   "outputs": [
    {
     "name": "stdout",
     "output_type": "stream",
     "text": [
      "[0 1 1 0 0 0 0 0 0 0 0 0 0 0 0 0 0 1 0 0 0 0 0 0 0 0 0 0 0 0 0 0 0 0 0 0 0\n",
      " 0 0 0 0 0 0 0 0 0 0 1 0 0 0 0 0 1 0 0 0 0 0 0 0 0 0 0 0 0 0 0 0 0 0 0 0 0\n",
      " 0 1 0 0 0 0 0 0 1 1 1 1 0 0 0 0 0 0 0 0 0 0 0 0 0 0 0 0 0 0 0 0 0 0 0 0 0\n",
      " 0 0 0 0 1 0 0 0 0 0 0 1 0 0 0 0 0 0 0 0 0 0 1 0 0 0 0 0 0 0 0 0 0 0 0 0 0\n",
      " 1 0 0 0 0 0 0 0 0 0 0 0 0 0 0 0 0 0 0 0 0 0 0 0 0 0 0 0 0 1 0 1 0 0 0 0 0\n",
      " 0 0 0 0 0 0 0 0 0 0 0 0 0 0 0 0 0 0 0 0 0 0 0 0 0 0 0 0 0 0 0 1 0 0 0 0 0\n",
      " 0 0 1 0 0 0 0 0 0 0 0 0 0 0 0 0 0 0 0 0 0 0 0 0 0 0 0 0 0 1 0 0 0 0 0 0 0\n",
      " 0 0 0 0 0 0 0 0 0 0 0 0 0 0 0 0 1 0 0 0 0 0 0 0 0 0 0 0 0 0 0 0 0 0 1]\n"
     ]
    }
   ],
   "source": [
    "y_pred = model.predict(x_test)# this is prediciting the values for the xtest\n",
    "print(y_pred)"
   ]
  },
  {
   "cell_type": "code",
   "execution_count": 32,
   "metadata": {},
   "outputs": [
    {
     "name": "stdout",
     "output_type": "stream",
     "text": [
      "Confusion Matrix is:\n",
      "[[228   8]\n",
      " [ 45  13]]\n"
     ]
    }
   ],
   "source": [
    "cm=confusion_matrix(y_test,y_pred)\n",
    "print(\"Confusion Matrix is:\", cm, sep='\\n') "
   ]
  },
  {
   "cell_type": "code",
   "execution_count": 33,
   "metadata": {},
   "outputs": [
    {
     "name": "stdout",
     "output_type": "stream",
     "text": [
      "Area under the curve: 0.843001168907072\n"
     ]
    }
   ],
   "source": [
    "probs_log = model.predict_proba(x_test)\n",
    "prob_positive = probs_log[:,1]\n",
    "\n",
    "fpr, tpr, threshold = metrics.roc_curve(y_test, prob_positive)\n",
    "roc_auc = metrics.auc(fpr, tpr)\n",
    "print('Area under the curve:',roc_auc)"
   ]
  },
  {
   "cell_type": "code",
   "execution_count": 34,
   "metadata": {
    "scrolled": true
   },
   "outputs": [
    {
     "data": {
      "image/png": "[encoded data removed]",
      "text/plain": [
       "<Figure size 432x288 with 1 Axes>"
      ]
     },
     "metadata": {
      "needs_background": "light"
     },
     "output_type": "display_data"
    }
   ],
   "source": [
    "# plot ROC curve\n",
    "\n",
    "plt.title('Receiver Operating Characteristic')\n",
    "plt.plot(fpr, tpr, 'orange', label = 'AUC = %0.2f' % roc_auc)\n",
    "plt.legend(loc = 'lower right')\n",
    "\n",
    "plt.plot([0, 1], [0, 1], color='darkblue', linestyle='--')\n",
    "plt.ylabel('True Positive Rate')\n",
    "plt.xlabel('False Positive Rate')\n",
    "plt.show()"
   ]
  },
  {
   "cell_type": "markdown",
   "metadata": {},
   "source": [
    "# Decision Tree"
   ]
  },
  {
   "cell_type": "code",
   "execution_count": 32,
   "metadata": {},
   "outputs": [],
   "source": [
    "import numpy as np\n",
    "import pandas as pd\n",
    "import matplotlib.pyplot as plt\n",
    "%matplotlib inline\n",
    "\n",
    "# required library for linear regression\n",
    "from sklearn.linear_model import LinearRegression\n",
    "from sklearn.model_selection import train_test_split\n",
    "from sklearn.metrics import r2_score, mean_squared_error"
   ]
  },
  {
   "cell_type": "code",
   "execution_count": 33,
   "metadata": {},
   "outputs": [
    {
     "data": {
      "text/html": [
       "<div>\n",
       "<style scoped>\n",
       "    .dataframe tbody tr th:only-of-type {\n",
       "        vertical-align: middle;\n",
       "    }\n",
       "\n",
       "    .dataframe tbody tr th {\n",
       "        vertical-align: top;\n",
       "    }\n",
       "\n",
       "    .dataframe thead th {\n",
       "        text-align: right;\n",
       "    }\n",
       "</style>\n",
       "<table border=\"1\" class=\"dataframe\">\n",
       "  <thead>\n",
       "    <tr style=\"text-align: right;\">\n",
       "      <th></th>\n",
       "      <th>Age</th>\n",
       "      <th>BusinessTravel</th>\n",
       "      <th>DailyRate</th>\n",
       "      <th>DistanceFromHome</th>\n",
       "      <th>EnvironmentSatisfaction</th>\n",
       "      <th>Gender</th>\n",
       "      <th>JobSatisfaction</th>\n",
       "      <th>MaritalStatus</th>\n",
       "      <th>MonthlyIncome</th>\n",
       "      <th>NumCompaniesWorked</th>\n",
       "      <th>OverTime</th>\n",
       "      <th>PercentSalaryHike</th>\n",
       "      <th>RelationshipSatisfaction</th>\n",
       "      <th>TotalWorkingYears</th>\n",
       "      <th>WorkLifeBalance</th>\n",
       "      <th>YearsAtCompany</th>\n",
       "      <th>YearsInCurrentRole</th>\n",
       "      <th>YearsSinceLastPromotion</th>\n",
       "      <th>YearsWithCurrManager</th>\n",
       "    </tr>\n",
       "  </thead>\n",
       "  <tbody>\n",
       "    <tr>\n",
       "      <th>0</th>\n",
       "      <td>41</td>\n",
       "      <td>2</td>\n",
       "      <td>1102</td>\n",
       "      <td>1</td>\n",
       "      <td>2</td>\n",
       "      <td>0</td>\n",
       "      <td>4</td>\n",
       "      <td>2</td>\n",
       "      <td>5993</td>\n",
       "      <td>8</td>\n",
       "      <td>1</td>\n",
       "      <td>11</td>\n",
       "      <td>1</td>\n",
       "      <td>8</td>\n",
       "      <td>1</td>\n",
       "      <td>6</td>\n",
       "      <td>4</td>\n",
       "      <td>0</td>\n",
       "      <td>5</td>\n",
       "    </tr>\n",
       "    <tr>\n",
       "      <th>1</th>\n",
       "      <td>49</td>\n",
       "      <td>3</td>\n",
       "      <td>279</td>\n",
       "      <td>8</td>\n",
       "      <td>3</td>\n",
       "      <td>1</td>\n",
       "      <td>2</td>\n",
       "      <td>1</td>\n",
       "      <td>5130</td>\n",
       "      <td>1</td>\n",
       "      <td>0</td>\n",
       "      <td>23</td>\n",
       "      <td>4</td>\n",
       "      <td>10</td>\n",
       "      <td>3</td>\n",
       "      <td>10</td>\n",
       "      <td>7</td>\n",
       "      <td>1</td>\n",
       "      <td>7</td>\n",
       "    </tr>\n",
       "    <tr>\n",
       "      <th>2</th>\n",
       "      <td>37</td>\n",
       "      <td>2</td>\n",
       "      <td>1373</td>\n",
       "      <td>2</td>\n",
       "      <td>4</td>\n",
       "      <td>1</td>\n",
       "      <td>3</td>\n",
       "      <td>2</td>\n",
       "      <td>2090</td>\n",
       "      <td>6</td>\n",
       "      <td>1</td>\n",
       "      <td>15</td>\n",
       "      <td>2</td>\n",
       "      <td>7</td>\n",
       "      <td>3</td>\n",
       "      <td>0</td>\n",
       "      <td>0</td>\n",
       "      <td>0</td>\n",
       "      <td>0</td>\n",
       "    </tr>\n",
       "    <tr>\n",
       "      <th>3</th>\n",
       "      <td>33</td>\n",
       "      <td>3</td>\n",
       "      <td>1392</td>\n",
       "      <td>3</td>\n",
       "      <td>4</td>\n",
       "      <td>0</td>\n",
       "      <td>3</td>\n",
       "      <td>1</td>\n",
       "      <td>2909</td>\n",
       "      <td>1</td>\n",
       "      <td>1</td>\n",
       "      <td>11</td>\n",
       "      <td>3</td>\n",
       "      <td>8</td>\n",
       "      <td>3</td>\n",
       "      <td>8</td>\n",
       "      <td>7</td>\n",
       "      <td>3</td>\n",
       "      <td>0</td>\n",
       "    </tr>\n",
       "    <tr>\n",
       "      <th>4</th>\n",
       "      <td>27</td>\n",
       "      <td>2</td>\n",
       "      <td>591</td>\n",
       "      <td>2</td>\n",
       "      <td>1</td>\n",
       "      <td>1</td>\n",
       "      <td>2</td>\n",
       "      <td>1</td>\n",
       "      <td>3468</td>\n",
       "      <td>9</td>\n",
       "      <td>0</td>\n",
       "      <td>12</td>\n",
       "      <td>4</td>\n",
       "      <td>6</td>\n",
       "      <td>3</td>\n",
       "      <td>2</td>\n",
       "      <td>2</td>\n",
       "      <td>2</td>\n",
       "      <td>2</td>\n",
       "    </tr>\n",
       "  </tbody>\n",
       "</table>\n",
       "</div>"
      ],
      "text/plain": [
       "   Age  BusinessTravel  DailyRate  DistanceFromHome  EnvironmentSatisfaction  \\\n",
       "0   41               2       1102                 1                        2   \n",
       "1   49               3        279                 8                        3   \n",
       "2   37               2       1373                 2                        4   \n",
       "3   33               3       1392                 3                        4   \n",
       "4   27               2        591                 2                        1   \n",
       "\n",
       "   Gender  JobSatisfaction  MaritalStatus  MonthlyIncome  NumCompaniesWorked  \\\n",
       "0       0                4              2           5993                   8   \n",
       "1       1                2              1           5130                   1   \n",
       "2       1                3              2           2090                   6   \n",
       "3       0                3              1           2909                   1   \n",
       "4       1                2              1           3468                   9   \n",
       "\n",
       "   OverTime  PercentSalaryHike  RelationshipSatisfaction  TotalWorkingYears  \\\n",
       "0         1                 11                         1                  8   \n",
       "1         0                 23                         4                 10   \n",
       "2         1                 15                         2                  7   \n",
       "3         1                 11                         3                  8   \n",
       "4         0                 12                         4                  6   \n",
       "\n",
       "   WorkLifeBalance  YearsAtCompany  YearsInCurrentRole  \\\n",
       "0                1               6                   4   \n",
       "1                3              10                   7   \n",
       "2                3               0                   0   \n",
       "3                3               8                   7   \n",
       "4                3               2                   2   \n",
       "\n",
       "   YearsSinceLastPromotion  YearsWithCurrManager  \n",
       "0                        0                     5  \n",
       "1                        1                     7  \n",
       "2                        0                     0  \n",
       "3                        3                     0  \n",
       "4                        2                     2  "
      ]
     },
     "execution_count": 33,
     "metadata": {},
     "output_type": "execute_result"
    }
   ],
   "source": [
    "#Encoding\n",
    "#Try label encoding\n",
    "\n",
    "x_dummies = pd.get_dummies(x)\n",
    "x_dummies.head()"
   ]
  },
  {
   "cell_type": "code",
   "execution_count": 35,
   "metadata": {},
   "outputs": [],
   "source": [
    "x_train,x_test,y_train,y_test = train_test_split(x_dummies,y,test_size=0.2,random_state=0)"
   ]
  },
  {
   "cell_type": "code",
   "execution_count": 36,
   "metadata": {},
   "outputs": [
    {
     "data": {
      "text/plain": [
       "DecisionTreeClassifier(class_weight=None, criterion='entropy', max_depth=None,\n",
       "                       max_features=None, max_leaf_nodes=None,\n",
       "                       min_impurity_decrease=0.0, min_impurity_split=None,\n",
       "                       min_samples_leaf=1, min_samples_split=2,\n",
       "                       min_weight_fraction_leaf=0.0, presort=False,\n",
       "                       random_state=None, splitter='best')"
      ]
     },
     "execution_count": 36,
     "metadata": {},
     "output_type": "execute_result"
    }
   ],
   "source": [
    "from sklearn.tree import DecisionTreeClassifier\n",
    "\n",
    "clf= DecisionTreeClassifier(criterion=\"entropy\")\n",
    "clf.fit(x_train,y_train)"
   ]
  },
  {
   "cell_type": "code",
   "execution_count": 37,
   "metadata": {},
   "outputs": [
    {
     "data": {
      "text/plain": [
       "array([0, 0, 0, 0, 1, 1, 1, 0, 0, 0, 0, 1, 0, 0, 0, 0, 0, 1, 0, 0, 0, 0,\n",
       "       0, 0, 0, 0, 0, 0, 1, 0, 0, 0, 0, 0, 0, 0, 1, 0, 0, 0, 0, 0, 0, 0,\n",
       "       0, 0, 0, 0, 1, 0, 1, 0, 0, 0, 0, 0, 0, 0, 0, 1, 0, 0, 1, 0, 0, 0,\n",
       "       0, 0, 0, 0, 1, 1, 0, 0, 0, 0, 0, 0, 1, 0, 0, 0, 0, 0, 0, 0, 0, 0,\n",
       "       0, 0, 1, 0, 0, 0, 0, 0, 0, 1, 0, 0, 0, 0, 1, 0, 0, 0, 0, 0, 1, 0,\n",
       "       1, 1, 0, 0, 0, 0, 0, 0, 0, 0, 0, 0, 0, 1, 0, 0, 0, 0, 0, 0, 0, 0,\n",
       "       0, 0, 0, 0, 1, 0, 1, 0, 0, 0, 0, 0, 0, 0, 0, 1, 0, 0, 0, 0, 0, 1,\n",
       "       0, 0, 0, 0, 0, 0, 0, 0, 0, 1, 0, 0, 0, 0, 0, 0, 0, 0, 0, 1, 0, 0,\n",
       "       0, 0, 0, 0, 0, 0, 0, 0, 0, 0, 0, 0, 0, 0, 0, 1, 1, 0, 0, 0, 0, 0,\n",
       "       0, 0, 0, 0, 0, 1, 0, 0, 1, 0, 1, 0, 0, 0, 1, 1, 0, 0, 0, 0, 0, 0,\n",
       "       0, 1, 1, 0, 0, 0, 0, 1, 0, 0, 0, 1, 0, 0, 0, 0, 1, 0, 0, 1, 1, 0,\n",
       "       0, 0, 0, 0, 0, 0, 0, 0, 0, 0, 0, 0, 0, 0, 0, 1, 0, 0, 0, 0, 0, 0,\n",
       "       0, 0, 0, 1, 1, 0, 0, 0, 0, 0, 0, 0, 0, 0, 0, 1, 0, 0, 0, 0, 0, 0,\n",
       "       0, 0, 0, 0, 0, 0, 0, 0, 0, 0, 0, 1, 1, 0, 0, 0, 0, 0, 1, 0, 0, 0,\n",
       "       0, 0, 1, 0, 0, 0, 0, 0, 0, 0, 0, 0, 0, 0, 1, 0, 0, 0, 0, 1, 0, 0,\n",
       "       0, 0, 0, 0, 0, 0, 0, 0, 0, 0, 0, 1, 0, 0, 0, 0, 0, 0, 0, 0, 0, 0,\n",
       "       0, 0, 0, 0, 0, 0, 0, 0, 0, 0, 0, 0, 1, 0, 0, 1, 1, 0, 0, 0, 0, 0,\n",
       "       0, 0, 0, 0, 1, 0, 0, 0, 0, 0, 0, 0, 0, 0, 0, 0, 0, 1, 0, 0, 1, 0,\n",
       "       0, 1, 0, 0, 0, 0, 0, 0, 0, 0, 0, 0, 0, 0, 0, 0, 0, 1, 0, 0, 0, 0,\n",
       "       1, 0, 1, 0, 0, 0, 1, 0, 0, 1, 0, 1, 0, 0, 0, 0, 0, 0, 0, 0, 0, 0,\n",
       "       0], dtype=int64)"
      ]
     },
     "execution_count": 37,
     "metadata": {},
     "output_type": "execute_result"
    }
   ],
   "source": [
    "y_pred=clf.predict(x_test)\n",
    "y_pred"
   ]
  },
  {
   "cell_type": "code",
   "execution_count": 38,
   "metadata": {},
   "outputs": [
    {
     "name": "stdout",
     "output_type": "stream",
     "text": [
      "[[330  41]\n",
      " [ 46  24]]\n",
      "              precision    recall  f1-score   support\n",
      "\n",
      "           0       0.88      0.89      0.88       371\n",
      "           1       0.37      0.34      0.36        70\n",
      "\n",
      "    accuracy                           0.80       441\n",
      "   macro avg       0.62      0.62      0.62       441\n",
      "weighted avg       0.80      0.80      0.80       441\n",
      "\n"
     ]
    }
   ],
   "source": [
    "#Compute accuracy and Display confusion matrix\n",
    "\n",
    "from sklearn.metrics import confusion_matrix\n",
    "from sklearn.metrics import accuracy_score\n",
    "from sklearn.metrics import classification_report\n",
    "print(confusion_matrix(y_test,y_pred))\n",
    "print(classification_report(y_test,y_pred))\n"
   ]
  },
  {
   "cell_type": "code",
   "execution_count": 39,
   "metadata": {},
   "outputs": [
    {
     "data": {
      "image/png": "[encoded data removed]",
      "text/plain": [
       "<Figure size 1080x576 with 1 Axes>"
      ]
     },
     "metadata": {
      "needs_background": "light"
     },
     "output_type": "display_data"
    }
   ],
   "source": [
    "cols=list(x_dummies.columns.values)\n",
    "cols\n",
    "import matplotlib.pyplot as plt\n",
    "from sklearn import tree\n",
    "plt.figure(figsize=(15,8))\n",
    "\n",
    "tree.plot_tree(clf.fit(x_dummies,y),feature_names=cols,filled=True,precision=3,proportion=True,rounded=True)\n",
    "plt.show()"
   ]
  },
  {
   "cell_type": "code",
   "execution_count": 41,
   "metadata": {},
   "outputs": [
    {
     "data": {
      "text/plain": [
       "90.09"
      ]
     },
     "execution_count": 41,
     "metadata": {},
     "output_type": "execute_result"
    }
   ],
   "source": [
    "decision_tree = tree.DecisionTreeClassifier(max_depth = 5)\n",
    "decision_tree.fit(x_train, y_train)\n",
    "\n",
    "# Predicting results for test dataset\n",
    "y_pred = decision_tree.predict(x_test)\n",
    "acc_decision_tree = round(decision_tree.score(x_train, y_train) * 100, 2)\n",
    "acc_decision_tree"
   ]
  },
  {
   "cell_type": "markdown",
   "metadata": {},
   "source": [
    "# Random Forest Classification"
   ]
  },
  {
   "cell_type": "code",
   "execution_count": 45,
   "metadata": {},
   "outputs": [],
   "source": [
    "from sklearn.ensemble import RandomForestClassifier\n",
    "#create the test/train split\n",
    "x_train, x_test , y_train, y_test = train_test_split(x,y, test_size = 0.4,random_state=1)"
   ]
  },
  {
   "cell_type": "code",
   "execution_count": 46,
   "metadata": {},
   "outputs": [
    {
     "name": "stderr",
     "output_type": "stream",
     "text": [
      "C:\\Users\\Lenovo\\Anaconda3\\lib\\site-packages\\sklearn\\ensemble\\forest.py:245: FutureWarning: The default value of n_estimators will change from 10 in version 0.20 to 100 in 0.22.\n",
      "  \"10 in version 0.20 to 100 in 0.22.\", FutureWarning)\n"
     ]
    },
    {
     "data": {
      "text/plain": [
       "RandomForestClassifier(bootstrap=True, class_weight=None, criterion='gini',\n",
       "                       max_depth=None, max_features='auto', max_leaf_nodes=None,\n",
       "                       min_impurity_decrease=0.0, min_impurity_split=None,\n",
       "                       min_samples_leaf=1, min_samples_split=2,\n",
       "                       min_weight_fraction_leaf=0.0, n_estimators=10,\n",
       "                       n_jobs=None, oob_score=False, random_state=None,\n",
       "                       verbose=0, warm_start=False)"
      ]
     },
     "execution_count": 46,
     "metadata": {},
     "output_type": "execute_result"
    }
   ],
   "source": [
    "#Create the model and train\n",
    "model=RandomForestClassifier()\n",
    "model.fit(x_train,y_train)"
   ]
  },
  {
   "cell_type": "code",
   "execution_count": 47,
   "metadata": {},
   "outputs": [],
   "source": [
    "#Predict the results for test\n",
    "test_pred=model.predict(x_test)"
   ]
  },
  {
   "cell_type": "code",
   "execution_count": 48,
   "metadata": {},
   "outputs": [
    {
     "data": {
      "text/plain": [
       "0.8350340136054422"
      ]
     },
     "execution_count": 48,
     "metadata": {},
     "output_type": "execute_result"
    }
   ],
   "source": [
    "#test the accuracy\n",
    "accuracy_score(y_test,test_pred)"
   ]
  },
  {
   "cell_type": "code",
   "execution_count": 51,
   "metadata": {},
   "outputs": [
    {
     "data": {
      "text/plain": [
       "<matplotlib.axes._subplots.AxesSubplot at 0x1f96cd3e898>"
      ]
     },
     "execution_count": 51,
     "metadata": {},
     "output_type": "execute_result"
    },
    {
     "data": {
      "image/png": "[encoded data removed]",
      "text/plain": [
       "<Figure size 432x288 with 1 Axes>"
      ]
     },
     "metadata": {
      "needs_background": "light"
     },
     "output_type": "display_data"
    }
   ],
   "source": [
    "feat_importance=pd.Series(model.feature_importances_,index=x.columns)\n",
    "feat_importance=feat_importance.nlargest(20)\n",
    "feat_importance.plot(kind='barh')"
   ]
  },
  {
   "cell_type": "markdown",
   "metadata": {},
   "source": [
    "Looks Like Monthly income contribute more in Atrrition of employees."
   ]
  },
  {
   "cell_type": "code",
   "execution_count": null,
   "metadata": {},
   "outputs": [],
   "source": []
  }
 ],
 "metadata": {
  "kernelspec": {
   "display_name": "Python 3",
   "language": "python",
   "name": "python3"
  },
  "language_info": {
   "codemirror_mode": {
    "name": "ipython",
    "version": 3
   },
   "file_extension": ".py",
   "mimetype": "text/x-python",
   "name": "python",
   "nbconvert_exporter": "python",
   "pygments_lexer": "ipython3",
   "version": "3.7.1"
  }
 },
 "nbformat": 4,
 "nbformat_minor": 2
}
