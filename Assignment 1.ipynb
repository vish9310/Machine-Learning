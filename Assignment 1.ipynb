{
 "cells": [
  {
   "cell_type": "markdown",
   "metadata": {},
   "source": [
    "# Assignment 1"
   ]
  },
  {
   "cell_type": "code",
   "execution_count": null,
   "metadata": {},
   "outputs": [],
   "source": [
    "import os\n",
    "import pandas as pd\n",
    "\n",
    "path= r\"C:\\Users\\Lenovo\\Desktop\\Datasets_for_ML_-_Regression\"\n",
    "os.chdir(path)\n",
    "os.listdir(path)\n",
    "train=pd.read_csv(\"train.csv\")"
   ]
  },
  {
   "cell_type": "code",
   "execution_count": 2,
   "metadata": {},
   "outputs": [
    {
     "data": {
      "text/plain": [
       "Item_Identifier                 0\n",
       "Item_Weight                  1463\n",
       "Item_Fat_Content                0\n",
       "Item_Visibility                 0\n",
       "Item_Type                       0\n",
       "Item_MRP                        0\n",
       "Outlet_Identifier               0\n",
       "Outlet_Establishment_Year       0\n",
       "Outlet_Size                  2410\n",
       "Outlet_Location_Type            0\n",
       "Outlet_Type                     0\n",
       "Item_Outlet_Sales               0\n",
       "dtype: int64"
      ]
     },
     "execution_count": 2,
     "metadata": {},
     "output_type": "execute_result"
    }
   ],
   "source": [
    "Null_value =train.isnull().sum()\n",
    "Null_value"
   ]
  },
  {
   "cell_type": "code",
   "execution_count": 3,
   "metadata": {},
   "outputs": [
    {
     "data": {
      "text/plain": [
       "Item_Identifier               0.000000\n",
       "Item_Weight                  17.165317\n",
       "Item_Fat_Content              0.000000\n",
       "Item_Visibility               0.000000\n",
       "Item_Type                     0.000000\n",
       "Item_MRP                      0.000000\n",
       "Outlet_Identifier             0.000000\n",
       "Outlet_Establishment_Year     0.000000\n",
       "Outlet_Size                  28.276428\n",
       "Outlet_Location_Type          0.000000\n",
       "Outlet_Type                   0.000000\n",
       "Item_Outlet_Sales             0.000000\n",
       "dtype: float64"
      ]
     },
     "execution_count": 3,
     "metadata": {},
     "output_type": "execute_result"
    }
   ],
   "source": [
    "Null_value =(train.isnull().sum()/len(train))*100\n",
    "Null_value"
   ]
  },
  {
   "cell_type": "code",
   "execution_count": 4,
   "metadata": {},
   "outputs": [],
   "source": [
    "train=train.dropna()"
   ]
  },
  {
   "cell_type": "code",
   "execution_count": 5,
   "metadata": {},
   "outputs": [
    {
     "data": {
      "text/plain": [
       "Item_Identifier              0\n",
       "Item_Weight                  0\n",
       "Item_Fat_Content             0\n",
       "Item_Visibility              0\n",
       "Item_Type                    0\n",
       "Item_MRP                     0\n",
       "Outlet_Identifier            0\n",
       "Outlet_Establishment_Year    0\n",
       "Outlet_Size                  0\n",
       "Outlet_Location_Type         0\n",
       "Outlet_Type                  0\n",
       "Item_Outlet_Sales            0\n",
       "dtype: int64"
      ]
     },
     "execution_count": 5,
     "metadata": {},
     "output_type": "execute_result"
    }
   ],
   "source": [
    "Null=train.isnull().sum()\n",
    "Null"
   ]
  },
  {
   "cell_type": "code",
   "execution_count": 6,
   "metadata": {},
   "outputs": [],
   "source": [
    "X=train[['Item_Weight','Item_Fat_Content','Item_Visibility','Item_MRP','Outlet_Establishment_Year','Outlet_Size','Outlet_Location_Type','Outlet_Type']]\n",
    "Y=train[['Item_Outlet_Sales']]"
   ]
  },
  {
   "cell_type": "code",
   "execution_count": 7,
   "metadata": {},
   "outputs": [
    {
     "name": "stderr",
     "output_type": "stream",
     "text": [
      "C:\\Users\\Lenovo\\Anaconda3\\lib\\site-packages\\ipykernel_launcher.py:1: SettingWithCopyWarning: \n",
      "A value is trying to be set on a copy of a slice from a DataFrame.\n",
      "Try using .loc[row_indexer,col_indexer] = value instead\n",
      "\n",
      "See the caveats in the documentation: http://pandas.pydata.org/pandas-docs/stable/indexing.html#indexing-view-versus-copy\n",
      "  \"\"\"Entry point for launching an IPython kernel.\n"
     ]
    }
   ],
   "source": [
    "X['Item_Fat_Content']=X['Item_Fat_Content'].map({'Low Fat':1,'Regular':2,'low fat':1,'LF':1,'reg':2})"
   ]
  },
  {
   "cell_type": "code",
   "execution_count": 8,
   "metadata": {},
   "outputs": [
    {
     "data": {
      "text/plain": [
       "array(['Medium', 'High', 'Small'], dtype=object)"
      ]
     },
     "execution_count": 8,
     "metadata": {},
     "output_type": "execute_result"
    }
   ],
   "source": [
    "X['Outlet_Size'].unique()"
   ]
  },
  {
   "cell_type": "code",
   "execution_count": 9,
   "metadata": {},
   "outputs": [
    {
     "name": "stderr",
     "output_type": "stream",
     "text": [
      "C:\\Users\\Lenovo\\Anaconda3\\lib\\site-packages\\ipykernel_launcher.py:1: SettingWithCopyWarning: \n",
      "A value is trying to be set on a copy of a slice from a DataFrame.\n",
      "Try using .loc[row_indexer,col_indexer] = value instead\n",
      "\n",
      "See the caveats in the documentation: http://pandas.pydata.org/pandas-docs/stable/indexing.html#indexing-view-versus-copy\n",
      "  \"\"\"Entry point for launching an IPython kernel.\n"
     ]
    }
   ],
   "source": [
    "X['Outlet_Size']=X['Outlet_Size'].map({'Medium':1,'High':3,'Small':2})"
   ]
  },
  {
   "cell_type": "code",
   "execution_count": 10,
   "metadata": {},
   "outputs": [
    {
     "data": {
      "text/plain": [
       "array(['Tier 1', 'Tier 3', 'Tier 2'], dtype=object)"
      ]
     },
     "execution_count": 10,
     "metadata": {},
     "output_type": "execute_result"
    }
   ],
   "source": [
    "X['Outlet_Location_Type'].unique()"
   ]
  },
  {
   "cell_type": "code",
   "execution_count": 11,
   "metadata": {},
   "outputs": [
    {
     "name": "stderr",
     "output_type": "stream",
     "text": [
      "C:\\Users\\Lenovo\\Anaconda3\\lib\\site-packages\\ipykernel_launcher.py:1: SettingWithCopyWarning: \n",
      "A value is trying to be set on a copy of a slice from a DataFrame.\n",
      "Try using .loc[row_indexer,col_indexer] = value instead\n",
      "\n",
      "See the caveats in the documentation: http://pandas.pydata.org/pandas-docs/stable/indexing.html#indexing-view-versus-copy\n",
      "  \"\"\"Entry point for launching an IPython kernel.\n"
     ]
    }
   ],
   "source": [
    "X['Outlet_Location_Type']=X['Outlet_Location_Type'].map({'Tier 1':1,'Tier 3':3,'Tier 2':2})"
   ]
  },
  {
   "cell_type": "code",
   "execution_count": 12,
   "metadata": {},
   "outputs": [
    {
     "data": {
      "text/plain": [
       "array(['Supermarket Type1', 'Supermarket Type2'], dtype=object)"
      ]
     },
     "execution_count": 12,
     "metadata": {},
     "output_type": "execute_result"
    }
   ],
   "source": [
    "X['Outlet_Type'].unique()"
   ]
  },
  {
   "cell_type": "code",
   "execution_count": 13,
   "metadata": {},
   "outputs": [
    {
     "name": "stderr",
     "output_type": "stream",
     "text": [
      "C:\\Users\\Lenovo\\Anaconda3\\lib\\site-packages\\ipykernel_launcher.py:1: SettingWithCopyWarning: \n",
      "A value is trying to be set on a copy of a slice from a DataFrame.\n",
      "Try using .loc[row_indexer,col_indexer] = value instead\n",
      "\n",
      "See the caveats in the documentation: http://pandas.pydata.org/pandas-docs/stable/indexing.html#indexing-view-versus-copy\n",
      "  \"\"\"Entry point for launching an IPython kernel.\n"
     ]
    }
   ],
   "source": [
    "X['Outlet_Type']=X['Outlet_Type'].map({'Supermarket Type1':1,'Supermarket Type2':2})"
   ]
  },
  {
   "cell_type": "code",
   "execution_count": 14,
   "metadata": {},
   "outputs": [
    {
     "data": {
      "text/html": [
       "<div>\n",
       "<style scoped>\n",
       "    .dataframe tbody tr th:only-of-type {\n",
       "        vertical-align: middle;\n",
       "    }\n",
       "\n",
       "    .dataframe tbody tr th {\n",
       "        vertical-align: top;\n",
       "    }\n",
       "\n",
       "    .dataframe thead th {\n",
       "        text-align: right;\n",
       "    }\n",
       "</style>\n",
       "<table border=\"1\" class=\"dataframe\">\n",
       "  <thead>\n",
       "    <tr style=\"text-align: right;\">\n",
       "      <th></th>\n",
       "      <th>Item_Weight</th>\n",
       "      <th>Item_Fat_Content</th>\n",
       "      <th>Item_Visibility</th>\n",
       "      <th>Item_MRP</th>\n",
       "      <th>Outlet_Establishment_Year</th>\n",
       "      <th>Outlet_Size</th>\n",
       "      <th>Outlet_Location_Type</th>\n",
       "      <th>Outlet_Type</th>\n",
       "    </tr>\n",
       "  </thead>\n",
       "  <tbody>\n",
       "    <tr>\n",
       "      <th>0</th>\n",
       "      <td>9.300</td>\n",
       "      <td>1</td>\n",
       "      <td>0.016047</td>\n",
       "      <td>249.8092</td>\n",
       "      <td>1999</td>\n",
       "      <td>1</td>\n",
       "      <td>1</td>\n",
       "      <td>1</td>\n",
       "    </tr>\n",
       "    <tr>\n",
       "      <th>1</th>\n",
       "      <td>5.920</td>\n",
       "      <td>2</td>\n",
       "      <td>0.019278</td>\n",
       "      <td>48.2692</td>\n",
       "      <td>2009</td>\n",
       "      <td>1</td>\n",
       "      <td>3</td>\n",
       "      <td>2</td>\n",
       "    </tr>\n",
       "    <tr>\n",
       "      <th>2</th>\n",
       "      <td>17.500</td>\n",
       "      <td>1</td>\n",
       "      <td>0.016760</td>\n",
       "      <td>141.6180</td>\n",
       "      <td>1999</td>\n",
       "      <td>1</td>\n",
       "      <td>1</td>\n",
       "      <td>1</td>\n",
       "    </tr>\n",
       "    <tr>\n",
       "      <th>4</th>\n",
       "      <td>8.930</td>\n",
       "      <td>1</td>\n",
       "      <td>0.000000</td>\n",
       "      <td>53.8614</td>\n",
       "      <td>1987</td>\n",
       "      <td>3</td>\n",
       "      <td>3</td>\n",
       "      <td>1</td>\n",
       "    </tr>\n",
       "    <tr>\n",
       "      <th>5</th>\n",
       "      <td>10.395</td>\n",
       "      <td>2</td>\n",
       "      <td>0.000000</td>\n",
       "      <td>51.4008</td>\n",
       "      <td>2009</td>\n",
       "      <td>1</td>\n",
       "      <td>3</td>\n",
       "      <td>2</td>\n",
       "    </tr>\n",
       "  </tbody>\n",
       "</table>\n",
       "</div>"
      ],
      "text/plain": [
       "   Item_Weight  Item_Fat_Content  Item_Visibility  Item_MRP  \\\n",
       "0        9.300                 1         0.016047  249.8092   \n",
       "1        5.920                 2         0.019278   48.2692   \n",
       "2       17.500                 1         0.016760  141.6180   \n",
       "4        8.930                 1         0.000000   53.8614   \n",
       "5       10.395                 2         0.000000   51.4008   \n",
       "\n",
       "   Outlet_Establishment_Year  Outlet_Size  Outlet_Location_Type  Outlet_Type  \n",
       "0                       1999            1                     1            1  \n",
       "1                       2009            1                     3            2  \n",
       "2                       1999            1                     1            1  \n",
       "4                       1987            3                     3            1  \n",
       "5                       2009            1                     3            2  "
      ]
     },
     "execution_count": 14,
     "metadata": {},
     "output_type": "execute_result"
    }
   ],
   "source": [
    "X.head()"
   ]
  },
  {
   "cell_type": "code",
   "execution_count": 15,
   "metadata": {},
   "outputs": [],
   "source": [
    "X = X.loc[:,['Item_Weight','Item_Fat_Content','Item_Visibility','Item_MRP','Outlet_Establishment_Year','Outlet_Size','Outlet_Location_Type','Outlet_Type']]\n",
    "Y = Y.loc[:,'Item_Outlet_Sales']"
   ]
  },
  {
   "cell_type": "code",
   "execution_count": 16,
   "metadata": {},
   "outputs": [],
   "source": [
    "import pandas as pd\n",
    "import matplotlib.pyplot as plt\n",
    "%matplotlib inline\n",
    "from sklearn.linear_model import LinearRegression\n",
    "from sklearn.model_selection import train_test_split"
   ]
  },
  {
   "cell_type": "code",
   "execution_count": 17,
   "metadata": {},
   "outputs": [
    {
     "data": {
      "text/plain": [
       "3720"
      ]
     },
     "execution_count": 17,
     "metadata": {},
     "output_type": "execute_result"
    }
   ],
   "source": [
    "x_train, x_test, y_train, y_test = train_test_split(X, Y, test_size = 0.2, random_state = 0)\n",
    "len(x_train)"
   ]
  },
  {
   "cell_type": "code",
   "execution_count": 20,
   "metadata": {},
   "outputs": [],
   "source": [
    "lm = LinearRegression()\n",
    "model = lm.fit(x_train,y_train)"
   ]
  },
  {
   "cell_type": "code",
   "execution_count": 21,
   "metadata": {},
   "outputs": [
    {
     "name": "stdout",
     "output_type": "stream",
     "text": [
      "a0 =  -13954.658676294832\n",
      "Coeff =  [  -6.56002007   -8.63404937 -463.54115047   16.19175129    7.41646308\n",
      "  -92.00404396   86.87380838 -650.32938276]\n"
     ]
    }
   ],
   "source": [
    "print(\"a0 = \",lm.intercept_)\n",
    "print(\"Coeff = \",lm.coef_)"
   ]
  },
  {
   "cell_type": "code",
   "execution_count": 22,
   "metadata": {},
   "outputs": [
    {
     "data": {
      "text/plain": [
       "array([4094.75279141,  892.27131092, 2565.928648  , 2422.40270838,\n",
       "       2610.41474701, 3319.12986148, 1892.92170733, 1179.16408706,\n",
       "       2091.53882217, 3502.96357023, 1436.69433869, 1895.99859423,\n",
       "       3928.08519902,  576.56403408,  767.29111389, 1764.08298055,\n",
       "       2116.66315776,  901.38827049, 2645.14523526, 2882.95530162,\n",
       "       2460.47206048, 3315.61759229, 2069.86061427, 2226.17838856,\n",
       "       2874.83636552, 4138.17203286, 3063.49177217, 4214.61892413,\n",
       "       2668.63572528, 1437.23053012, 1102.57087446, 3225.88397847,\n",
       "        780.34500812, 2930.77652866, 2852.95923149, 2342.8913365 ,\n",
       "       4272.86204137, 3144.54936978, 1111.8723676 , 3552.33360697,\n",
       "       1045.60616185, 4187.73352567, 2871.13385277, 3968.39775788,\n",
       "       2349.50187113, 3104.58311056, 1632.20689298, 1602.11215968,\n",
       "       1290.11665081, 2852.90521473,  535.45562605,  310.70712019,\n",
       "       1672.24810152, 1643.64833948, 3685.41356029,  897.23643392,\n",
       "       2137.84643774,  651.0609431 , 1331.22207535, 2023.49044914,\n",
       "       1507.29533361, 2685.28074208, 2812.0108615 , 2488.37488845,\n",
       "       2329.92895356, 2443.73070352,  735.23246525, 2798.87425308,\n",
       "        855.83709758, 1154.12686129, 4245.55138469, 2129.29480572,\n",
       "        716.42858923, 2239.38985716, 2095.52212633, 1850.44278052,\n",
       "        374.63177122, 4039.75553584, 2159.04543843, 1696.66336691,\n",
       "        617.04853121,  650.65804027,  609.21720592, 3112.52086599,\n",
       "       3484.47035574, 4186.62476875, 3619.9095011 ,  872.57271606,\n",
       "       3433.20537868, 4083.01253313,  626.2286842 , 2206.84735507,\n",
       "       2441.32213945, 1187.34695151, 2276.42648313, 1381.34235736,\n",
       "       2891.9273762 ,  688.2537761 , 2017.76126845,  533.76393809,\n",
       "       2236.18447179, 3708.63395086,  512.99713981, 4287.35483315,\n",
       "        849.48946942, 4319.84667928, 2029.57630052, 2005.35601406,\n",
       "       2643.78940097,  819.69938401, 3409.15828388,  393.03545266,\n",
       "       3181.86444123, 1488.89359533, 4252.7748251 , 3160.06796637,\n",
       "       4013.02128435, 2249.08001099, 3808.84177851, 2596.41133602,\n",
       "       1352.28930015, 2066.23178574, 2684.07531648, 3010.40833249,\n",
       "       1565.54887168, 3452.20715882, 3072.47487155,  688.32950567,\n",
       "       2548.25059219, 1645.56851774, 4255.23675807, 1975.64080706,\n",
       "       3027.36556902, 1411.37427676, 3244.34185043, 2584.38176175,\n",
       "       2632.65412981, 4094.24295969, 2817.28800024, 2532.49869874,\n",
       "       4157.66398916, 2452.54045226, 2660.31489427, 3480.32065315,\n",
       "       2524.18076907, 2103.21384051, 1923.45366883, 1788.82972656,\n",
       "       2061.93619255, 3068.61282435,  535.77823797, 2350.52148445,\n",
       "       3673.89282655, 2304.26062469, 1692.05704065,  300.23590381,\n",
       "       3518.48513811, 1922.72050641, 1612.38925076, 1077.24289379,\n",
       "       1352.39174323, 3086.87092095, 2922.60243736,  818.2445695 ,\n",
       "       1305.00116801, 1275.46820101, 2946.85437861,  570.90106884,\n",
       "       2591.51492335, 1067.57346196, 1969.25474337, 1880.62981007,\n",
       "       2574.26359407, 1459.19819714, 2777.55790469, 1390.29148384,\n",
       "       2096.912626  , 3360.98967106, 3089.03674544, 3756.45215715,\n",
       "       1233.8915041 , 4098.84157794, 1478.05379447, 1323.68852969,\n",
       "       1537.22516005, 2568.6397037 , 1860.88071326, 4110.78519624,\n",
       "       2564.84626054, 2098.17414214, 3870.5561711 , 2226.0921103 ,\n",
       "       1891.49855812, 3816.38400746, 1062.85488934,  754.04930431,\n",
       "       3875.19414691, 3443.39136423, 1753.72248385, 1058.3269928 ,\n",
       "       2298.01926497, 1179.05500963, 2542.19522024, 3269.76790397,\n",
       "       2867.59121639, 3170.93110838, 1319.51477093, 2966.65921142,\n",
       "       3580.0977339 ,  891.1932723 , 4389.75630631, 3700.7143652 ,\n",
       "       1711.56302861, 2377.33943622, 2896.15024011, 1437.97714961,\n",
       "       4278.51699473, 3243.17939344, 1209.05059238, 3015.25608623,\n",
       "       2800.01950517, 1964.64961718, 1892.34820227, 1848.12790569,\n",
       "        869.98497095, 1806.54684626,  930.74157138, 1783.90292505,\n",
       "       3340.83631898, 2696.52070396, 2447.20049656, 3022.65803691,\n",
       "        620.92707282, 1660.0407726 , 3049.98739564, 3819.7204011 ,\n",
       "        682.1735171 , 2957.49850227,  353.13428585, 2892.92951485,\n",
       "       3180.32013853, 1435.96561438, 1158.02000273, 3487.32640523,\n",
       "       1808.02943305, 2701.19678743, 2964.35982321, 3863.17308864,\n",
       "       2554.30760585, 4186.28059849,  831.22419533, 1646.59043591,\n",
       "       1626.79752682, 2759.88684606, 2393.27789815, 3173.45881389,\n",
       "       1843.65656662, 1715.03856483, 1731.07838403, 2126.48468792,\n",
       "       3065.71535253, 2438.44137084, 1751.57204925, 2677.55076031,\n",
       "        285.88845726,  532.15193261, 1848.53178259,  791.41863607,\n",
       "       2765.07905791, 3006.25327141, 2947.07075196,  691.56797485,\n",
       "       1251.3607053 , 2435.62421874,  811.17207294, 3739.13884835,\n",
       "        630.55938474, 1759.99962249, 3022.9487515 , 1571.76688592,\n",
       "       3186.42600808,  664.57633028, 1307.78376594, 1451.85136822,\n",
       "       1781.83202492,  470.65395535, 2007.73176855, 3622.76851404,\n",
       "       2674.47494052, 1438.18596244, 2941.75985561, 2578.40190983,\n",
       "       2622.93432336, 2485.29195228, 4152.34956002, 2057.04846257,\n",
       "       3490.64561965, 2149.72225042, 3002.27442551, 2703.17111247,\n",
       "       2030.32669645,  515.34747171, 3229.09678738, 1190.38572121,\n",
       "       1750.98458916,  239.93976431,  652.26905235, 3519.81483156,\n",
       "       2355.22627808, 2928.47503384,  807.75713744, 1294.73086415,\n",
       "       2481.22530259,  772.43467937, 3170.14096086, 2159.46189899,\n",
       "       1721.01055677, 2438.45406797, 1433.83406268, 2016.50419948,\n",
       "       1479.01969834, 1278.24941552,  760.55521534,  747.16697147,\n",
       "       1670.95612449, 3365.33833654, 3231.59050953, 3949.55746432,\n",
       "       2283.01480124, 2921.7343647 , 2502.7115959 ,  603.68453933,\n",
       "       2061.42766632, 2749.25439608, 1498.18946788, 2230.28825944,\n",
       "       1970.77230258, 2220.09292564, 3144.81516079,  634.09507866,\n",
       "       2015.52711295, 2855.61194316, 2129.84363742, 2814.29559602,\n",
       "        845.95426165,  725.34237732, 1781.10855167, 3161.81851308,\n",
       "        883.29031676, 1672.62176315, 1738.38913062, 2030.96025567,\n",
       "        686.61444257, 4222.69901027, 1512.4381546 , 1527.30071376,\n",
       "       2871.08375197, 2968.60393995, 1487.1235608 , 3082.25678066,\n",
       "       4118.70490156, 1924.99424646, 3638.93783222, 2403.47646967,\n",
       "       3143.33303011,  718.31616619, 2705.31815417,  791.37229493,\n",
       "       1028.59835227, 3119.10658883, 2397.47309129, 3928.61185669,\n",
       "       3038.55209059, 3616.41063979, 1388.21166373, 3875.29482595,\n",
       "       2513.48970993,  901.10427638, 2332.85472098, 1156.03682266,\n",
       "       2135.53956966, 1760.66024931, 1761.6113888 , 2593.60083283,\n",
       "       2483.78918236, 2002.85909972, 2410.01851872, 1917.1167415 ,\n",
       "       4298.97578442, 2391.61502518,  843.20038156, 2854.93643707,\n",
       "       1559.31038884, 3204.7044109 , 1349.59960254, 3119.29353824,\n",
       "       2575.68031228,  485.44021534, 1541.49356729, 1900.20900894,\n",
       "       2941.71149544, 1950.75832153, 3111.81268557, 1916.71741188,\n",
       "       2537.8585291 , 1831.05255549, 1579.59095446, 3001.0110812 ,\n",
       "        781.79214645, 2134.8397935 , 2322.37181339, 2557.02275508,\n",
       "       3611.79337157, 1628.36353226, 1613.08729946, 1135.58342634,\n",
       "       2740.00598619, 1360.09927624,  944.91294167, 2799.37187786,\n",
       "       2208.78449424, 3113.31413935,  667.35502241, 2747.52929293,\n",
       "       3569.47916959,  646.42408004, 1301.52257479, 2347.66907158,\n",
       "        270.88142219, 2286.87211489,  407.28376306, 1360.42610698,\n",
       "       3685.95764942, 2989.89293872, 2000.27289808, 1963.08131337,\n",
       "       1342.03527275,  756.70222615, 2854.28693493, 1413.24633605,\n",
       "       1241.53344719, 2839.95436201, 1327.87535589,  675.30024308,\n",
       "       1870.05749936, 1332.9306963 , 2007.93142722,  626.19918899,\n",
       "        942.1769254 , 1863.66154894,  619.07278467, 3014.70565073,\n",
       "        538.36991015, 2935.38653864,  761.18027995, 3056.31392572,\n",
       "       1713.76241612, 3651.31731445, 2203.99974692, 1453.23192652,\n",
       "       2652.50576293, 2008.15790754, 1654.54637596, 1414.44551834,\n",
       "       3315.01528623, 2897.69252441, 1352.99185274, 1329.53239234,\n",
       "       1634.34670616, 1992.47048247, 2010.3750948 , 2917.8049612 ,\n",
       "       1620.65852464, 2528.93559332,  986.16791791, 3259.37872686,\n",
       "       3580.55861661, 1957.55063367, 3118.53727655, 4011.96492118,\n",
       "        620.05792391,  666.8577347 , 2601.16439272, 3074.32349262,\n",
       "       1578.25513095, 1603.60026966, 1199.55223643, 4397.15693072,\n",
       "       2068.08423781, 1659.85407497,  837.98985385, 3037.16933643,\n",
       "       2022.53750507, 3026.95688448, 1496.05164072, 1500.23686879,\n",
       "       1543.32973757, 2096.37225297,  569.47191737, 4417.28427463,\n",
       "       2520.16465869, 1052.49240597, 2124.81110837, 2869.9995721 ,\n",
       "        852.81412291,  796.06078328, 2812.38484263, 2374.75127752,\n",
       "       2437.64045081, 1120.10450859, 2148.98218133, 3522.26722546,\n",
       "       3871.48242414, 3202.7333108 , 2451.62674115, 2481.72562696,\n",
       "       1534.64363453, 1447.80073891, 2970.14566147, 3493.93024091,\n",
       "        926.0757097 ,  890.12658393, 1086.70523157, 1529.42246913,\n",
       "       2653.54473034, 2956.90632578, 3364.49699457, 4098.49744805,\n",
       "       1459.01716593, 3966.80644873, 3211.00662217, 2417.09140805,\n",
       "       1935.96517145, 2096.38639498, 2216.76757528,  633.54643263,\n",
       "       2900.62212147, 4398.80472955, 2076.39861077,  970.90243004,\n",
       "       2694.84268746, 3317.60582305, 1686.21545256, 2027.57722757,\n",
       "       3184.76703909, 1084.857285  , 3800.72030321,  467.90989506,\n",
       "       2328.71063047, 3728.2032009 , 2880.67914709, 2399.26697912,\n",
       "       1409.42986052, 1995.89725474, 2996.90607934, 2015.82896642,\n",
       "       1136.96531819, 1932.18790851, 2444.04147152, 1943.70425083,\n",
       "        761.04788601, 1287.18498465, 2540.25585199, 2816.75991696,\n",
       "       1563.29311438, 2055.80337395, 3236.84056085, 2974.5897876 ,\n",
       "       4060.60906973, 3062.56409556, 2763.53417581, 2410.37702165,\n",
       "       2393.33207372, 2850.71207037,  812.68151233, 1861.29636562,\n",
       "       4190.67109545, 1376.21713299,  781.59820316, 3102.84994136,\n",
       "       2502.66235827, 2863.04924475, 3278.04136292, 2984.22951129,\n",
       "       3959.88282321, 2143.87818742, 1703.04038015, 2707.75823395,\n",
       "       2702.23914907, 2385.47591914, 1492.08951639,  912.50459031,\n",
       "       1165.29241081, 3186.38782395, 2667.30901318, 2771.25056157,\n",
       "       3634.82957739, 4082.70729826, 3597.79704873, 1655.8064017 ,\n",
       "       2548.52539776, 2639.63471888, 1351.72550812,  406.78206094,\n",
       "       1760.94293399, 3325.41303199, 2657.727806  , 1029.26453672,\n",
       "       2448.03723508, 1371.82732924, 1381.99592015, 2269.60775113,\n",
       "       3042.39356805,  572.85753113, 2811.92498152,  948.73239353,\n",
       "       3951.40962236,  641.98300727, 2404.85300338,  726.4600489 ,\n",
       "        586.42925285, 3309.36272118, 1869.56043816, 2803.90649955,\n",
       "       2957.84893696, 1764.43917521, 3972.94372107, 1993.03283284,\n",
       "       2507.30369538, 2227.75277441, 3666.5403358 ,  589.51953757,\n",
       "        836.79224802, 2827.84562828,  965.70738502, 3171.88846133,\n",
       "        939.95284739, 2130.09192727, 1293.59224766, 3768.35388792,\n",
       "       1561.18636238, 3967.81637085, 2111.23135791, 1701.8427138 ,\n",
       "       4192.37380166, 2261.35902779, 2188.43894398,  750.47228666,\n",
       "        817.01802856,  963.69732142, 2459.97114681, 2684.57574274,\n",
       "       1444.01238989, 1552.79875782, 2587.80234049, 3706.83209616,\n",
       "       1747.27131176, 2131.27157376,  239.87974275, 1972.31486192,\n",
       "       1445.21140233, 3644.33325498, 2230.2647025 , 1459.83943775,\n",
       "       1816.13124917, 3127.887964  , 1295.71477489, 3139.22649997,\n",
       "       2873.5350474 , 2079.27145015, 2597.17380001, 1915.88320264,\n",
       "       3946.19557101, 3883.32100879, 2468.89085684, 2611.59152573,\n",
       "       3286.04634284, 2125.52432321,  359.26345433, 2671.63140515,\n",
       "        733.23337734, 1356.98112623, 3309.70887464, 1407.59258272,\n",
       "       4147.55830909, 2638.54773279,  878.32270286, 1036.60432371,\n",
       "       3767.06467086, 1931.87799945,  475.92494049, 1461.21380405,\n",
       "       2603.25455797, 3745.63205007, 2785.81271711, 2821.68505841,\n",
       "       2369.86580667, 3134.53072745, 4274.62412964, 3305.11343716,\n",
       "       3204.11020129, 2671.39922289,  834.05120844, 1203.9720505 ,\n",
       "       1590.652915  , 2511.07571211, 2504.02108645, 2609.94640268,\n",
       "       4317.48571223, 4334.40103216, 2108.93364752, 2746.12907026,\n",
       "       2864.44588081, 3903.85921692, 2799.63745619, 1929.18642498,\n",
       "       3816.62180251, 2555.19832509, 2820.93958283, 1951.70426689,\n",
       "       3114.58211514, 1041.27853185, 2259.78616463, 1741.63340579,\n",
       "       3170.48561088, 2290.82863646, 2475.26210547,  529.49748417,\n",
       "       1172.84330017, 2808.89787748, 2923.21914214, 1830.18825208,\n",
       "       1832.67932854,  752.01701167,  690.16158312, 1485.23107503,\n",
       "       4269.64620386, 2790.82657119, 1780.1639149 , 3434.07003407,\n",
       "        523.90882747,  725.99125968,  462.55116495, 2466.44611063,\n",
       "       1796.57449418, 2839.35448278, 3838.93101538, 1759.77127339,\n",
       "       2806.13167659, 1709.90540964, 1483.40505251, 3011.41959722,\n",
       "       3614.3974086 , 2750.56186732, 2020.86444943, 1534.82827696,\n",
       "       3853.62535271, 1805.60275919, 3523.56016266, 3706.19297663,\n",
       "       1010.12990676, 2011.65831668,  874.3170957 , 1297.54571244,\n",
       "       3568.4385216 , 2642.82867154, 2121.66194836, 2349.71175402,\n",
       "       1940.61716164, 3081.45155861, 4431.22611174,  686.90642284,\n",
       "       1018.89791679, 3214.56983701, 3008.89786748, 1642.67513842,\n",
       "       1446.93410409, 3560.74311707, 1027.63553483, 2069.38104614,\n",
       "       2639.94296282, 2399.97767839, 2613.60648835, 2040.66130413,\n",
       "       2687.29550413, 2127.6132081 , 1919.73829242, 1866.55522221,\n",
       "        651.09230705, 2319.42828625, 1034.10974598, 3068.87931609,\n",
       "       1029.23962824, 2784.93599573, 1655.39437574, 1803.59780647,\n",
       "       1445.34202111, 1689.80981329, 3030.13393143, 1929.5915035 ,\n",
       "        841.95482768, 3372.17599142, 1525.39959465, 3170.67593398,\n",
       "       1873.58612409, 1178.65282068, 2946.73251459, 2624.33056234,\n",
       "       1344.19924774,  695.69486612,  606.33810152,  780.45439006,\n",
       "       2550.23313288,  472.05609921, 3729.78718646, 3272.05019743,\n",
       "       2182.710177  , 2425.52621696,  567.91724367, 2591.94104837,\n",
       "       1866.97259571, 1456.05453989, 2122.1954804 , 1359.60341742,\n",
       "       2874.48086159, 1991.49882261, 3781.71716254, 3248.34375918,\n",
       "       2171.99890346, 3164.23309532, 4181.71411912, 2295.61692245,\n",
       "       2165.91051065, 1627.99402482, 2552.21413037, 2880.6501602 ,\n",
       "       3469.30332035,  893.73939451, 2986.17711358,  891.58030028,\n",
       "       3780.22992517, 2014.51383616, 1677.62146498, 1165.48727922,\n",
       "       2801.012444  ,  973.91122158, 3210.09393726, 4000.76355532,\n",
       "        806.22251037, 2765.49574316, 1496.8893844 , 1886.0587966 ,\n",
       "       2532.21064001, 3094.78181758,  667.80900092, 2145.42128327,\n",
       "       1924.92381831, 1407.2980334 , 2770.29803698, 4236.79696474,\n",
       "       3594.07415211, 3186.09171705, 2392.19210289, 2662.23086905,\n",
       "       1490.23847689, 3080.82388107, 1704.33925206, 3257.73565526,\n",
       "       1719.79053963, 2519.5505756 , 2354.81783433, 2084.16872497,\n",
       "        721.62326804, 2382.57941897, 2417.50715163, 2798.20669632,\n",
       "       1576.60726125, 2032.8378942 , 3207.59269636, 2872.71540061,\n",
       "       1806.6127875 ,  681.22962663, 1177.05050787, 3865.27148128,\n",
       "       1868.98434514,  256.50273613,  960.97617092, 2771.68328078,\n",
       "       1665.15023964, 1079.21071639, 1700.01595129, 3138.91775558,\n",
       "       2503.55459379, 2811.15293307, 3939.10738135, 1466.71826494,\n",
       "       3543.78213192, 2620.28594527, 1601.50696789, 1834.53986995,\n",
       "       3806.22250906, 1956.4205826 , 3252.99877798, 4213.91361751,\n",
       "       1986.00654569, 2590.41082511, 2102.42714256, 1636.85697396,\n",
       "       1258.78095686,  459.61312807,  554.87364423, 1134.09536218,\n",
       "       4126.16989133, 3822.69074939, 2248.16948755, 1517.11541834,\n",
       "       2857.53178589, 1439.46273147, 3661.46422674, 3105.06848857,\n",
       "       1223.76415533, 2658.67011186, 2627.46008192, 2545.39772168,\n",
       "       4017.95902395, 2579.58551272, 3297.50097154, 3189.62330812,\n",
       "       2238.91250865, 2447.43762758])"
      ]
     },
     "execution_count": 22,
     "metadata": {},
     "output_type": "execute_result"
    }
   ],
   "source": [
    "y_pred = model.predict(x_test)\n",
    "y_pred"
   ]
  },
  {
   "cell_type": "code",
   "execution_count": 23,
   "metadata": {},
   "outputs": [],
   "source": [
    "from sklearn.metrics import mean_squared_error,r2_score\n",
    "import numpy as np"
   ]
  },
  {
   "cell_type": "code",
   "execution_count": 25,
   "metadata": {},
   "outputs": [
    {
     "data": {
      "text/plain": [
       "1107.9855922079275"
      ]
     },
     "execution_count": 25,
     "metadata": {},
     "output_type": "execute_result"
    }
   ],
   "source": [
    "rmse = np.sqrt(mean_squared_error(y_test,y_pred))\n",
    "rmse"
   ]
  },
  {
   "cell_type": "code",
   "execution_count": 26,
   "metadata": {},
   "outputs": [
    {
     "data": {
      "text/plain": [
       "0.4711927539045423"
      ]
     },
     "execution_count": 26,
     "metadata": {},
     "output_type": "execute_result"
    }
   ],
   "source": [
    "r2_score(y_test,y_pred)"
   ]
  },
  {
   "cell_type": "code",
   "execution_count": 28,
   "metadata": {},
   "outputs": [
    {
     "data": {
      "text/plain": [
       "Text(0.5, 1.0, 'Residual Plot')"
      ]
     },
     "execution_count": 28,
     "metadata": {},
     "output_type": "execute_result"
    },
    {
     "data": {
      "image/png": "[encoded data removed]",
      "text/plain": [
       "<Figure size 432x288 with 1 Axes>"
      ]
     },
     "metadata": {
      "needs_background": "light"
     },
     "output_type": "display_data"
    }
   ],
   "source": [
    "#Residual PLot\n",
    "x_plot=plt.scatter(y_pred,(y_pred - y_test),c='b')\n",
    "plt.hlines(y=0,xmin=-4000,xmax=4000)\n",
    "plt.title('Residual Plot')"
   ]
  },
  {
   "cell_type": "markdown",
   "metadata": {},
   "source": [
    "# Regularization "
   ]
  },
  {
   "cell_type": "code",
   "execution_count": 29,
   "metadata": {},
   "outputs": [],
   "source": [
    "import pandas as pd\n",
    "import numpy as np\n",
    "import os\n",
    "import sklearn\n",
    "from sklearn.linear_model import LinearRegression\n",
    "from sklearn.model_selection import train_test_split\n",
    "from sklearn.metrics import mean_squared_error, r2_score\n",
    "\n",
    "from sklearn.linear_model import Ridge\n",
    "from sklearn.linear_model import Lasso\n",
    "\n",
    "from matplotlib import pyplot as plt\n",
    "from mpl_toolkits.mplot3d import Axes3D\n",
    "%matplotlib inline"
   ]
  },
  {
   "cell_type": "code",
   "execution_count": 32,
   "metadata": {},
   "outputs": [
    {
     "data": {
      "text/plain": [
       "Index(['Item_Weight', 'Item_Fat_Content', 'Item_Visibility', 'Item_MRP',\n",
       "       'Outlet_Establishment_Year', 'Outlet_Size', 'Outlet_Location_Type',\n",
       "       'Outlet_Type'],\n",
       "      dtype='object')"
      ]
     },
     "execution_count": 32,
     "metadata": {},
     "output_type": "execute_result"
    }
   ],
   "source": [
    "predictors = x_train.columns\n",
    "predictors"
   ]
  },
  {
   "cell_type": "code",
   "execution_count": 33,
   "metadata": {},
   "outputs": [
    {
     "data": {
      "text/plain": [
       "<matplotlib.collections.LineCollection at 0x1c9bcd18240>"
      ]
     },
     "execution_count": 33,
     "metadata": {},
     "output_type": "execute_result"
    },
    {
     "data": {
      "image/png": "[encoded data removed]",
      "text/plain": [
       "<Figure size 432x288 with 1 Axes>"
      ]
     },
     "metadata": {
      "needs_background": "light"
     },
     "output_type": "display_data"
    }
   ],
   "source": [
    "predictors = x_train.columns\n",
    "coef = pd.Series(lm.coef_, predictors).sort_values()\n",
    "coef.plot(kind = 'bar', title='Modal Coefficients')\n",
    "plt.hlines(y=0,xmin=-10,xmax=100)"
   ]
  },
  {
   "cell_type": "markdown",
   "metadata": {},
   "source": [
    "# Ridge Regression"
   ]
  },
  {
   "cell_type": "code",
   "execution_count": 34,
   "metadata": {},
   "outputs": [
    {
     "name": "stdout",
     "output_type": "stream",
     "text": [
      "RMSE =  1108.305049180481  R2 =  0.47088777608460974\n"
     ]
    },
    {
     "data": {
      "text/plain": [
       "<matplotlib.axes._subplots.AxesSubplot at 0x1c9bcd99a58>"
      ]
     },
     "execution_count": 34,
     "metadata": {},
     "output_type": "execute_result"
    },
    {
     "data": {
      "image/png": "[encoded data removed]",
      "text/plain": [
       "<Figure size 432x288 with 1 Axes>"
      ]
     },
     "metadata": {
      "needs_background": "light"
     },
     "output_type": "display_data"
    }
   ],
   "source": [
    "ridgeReg = Ridge(alpha = 0.01, normalize=True)\n",
    "ridgeReg.fit(x_train, y_train)\n",
    "pred = ridgeReg.predict(x_test)\n",
    "rmse = np.sqrt(mean_squared_error(y_test,pred))\n",
    "r2 = r2_score(y_test,pred)\n",
    "\n",
    "print(\"RMSE = \",rmse, \" R2 = \",r2)\n",
    "predictors = x_train.columns\n",
    "coef = pd.Series(ridgeReg.coef_,predictors).sort_values()\n",
    "coef.plot(kind = 'bar', title = 'modal Coefficients')\n",
    "#plt.hlines(y=0,xmin=-10,xmax=100)"
   ]
  },
  {
   "cell_type": "code",
   "execution_count": null,
   "metadata": {},
   "outputs": [],
   "source": []
  },
  {
   "cell_type": "code",
   "execution_count": null,
   "metadata": {},
   "outputs": [],
   "source": []
  },
  {
   "cell_type": "code",
   "execution_count": null,
   "metadata": {},
   "outputs": [],
   "source": []
  },
  {
   "cell_type": "code",
   "execution_count": null,
   "metadata": {},
   "outputs": [],
   "source": []
  },
  {
   "cell_type": "code",
   "execution_count": null,
   "metadata": {},
   "outputs": [],
   "source": []
  },
  {
   "cell_type": "code",
   "execution_count": null,
   "metadata": {},
   "outputs": [],
   "source": []
  },
  {
   "cell_type": "code",
   "execution_count": null,
   "metadata": {},
   "outputs": [],
   "source": []
  },
  {
   "cell_type": "code",
   "execution_count": null,
   "metadata": {},
   "outputs": [],
   "source": []
  },
  {
   "cell_type": "code",
   "execution_count": null,
   "metadata": {},
   "outputs": [],
   "source": []
  },
  {
   "cell_type": "markdown",
   "metadata": {},
   "source": [
    "# Lasso Regression"
   ]
  },
  {
   "cell_type": "code",
   "execution_count": null,
   "metadata": {},
   "outputs": [],
   "source": [
    "from sklearn.linear_model import Lasso\n",
    "#alpha_range=[0.01,0.05,0.5,5]\n",
    "\n",
    "lassoReg=Lasso(alpha=0.01, normalize=True)\n",
    "lassoReg.fit(x_train,y_train)\n",
    "pred=lassoReg.predict(x_test)\n",
    "rmse=np.sqrt(mean_squared_error(y_test,pred))\n",
    "r2=r2_score(y_test,pred)\n",
    "\n",
    "print('Rmse= ',rmse,'R2= ',r2)\n",
    "coef=pd.Series(lassoReg.coef_,predictors).sort_values()\n",
    "coef.plot(kind='bar',title='Modal Coefficients')"
   ]
  },
  {
   "cell_type": "code",
   "execution_count": null,
   "metadata": {},
   "outputs": [],
   "source": []
  }
 ],
 "metadata": {
  "kernelspec": {
   "display_name": "Python 3",
   "language": "python",
   "name": "python3"
  },
  "language_info": {
   "codemirror_mode": {
    "name": "ipython",
    "version": 3
   },
   "file_extension": ".py",
   "mimetype": "text/x-python",
   "name": "python",
   "nbconvert_exporter": "python",
   "pygments_lexer": "ipython3",
   "version": "3.7.1"
  }
 },
 "nbformat": 4,
 "nbformat_minor": 2
}
